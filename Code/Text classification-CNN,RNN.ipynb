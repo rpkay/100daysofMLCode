{
  "nbformat": 4,
  "nbformat_minor": 0,
  "metadata": {
    "colab": {
      "name": "Cute.ipynb",
      "version": "0.3.2",
      "provenance": [],
      "collapsed_sections": []
    },
    "kernelspec": {
      "name": "python3",
      "display_name": "Python 3"
    },
    "accelerator": "GPU"
  },
  "cells": [
    {
      "metadata": {
        "id": "WCFcz4gZ57bq",
        "colab_type": "text"
      },
      "cell_type": "markdown",
      "source": [
        "**Download the data from source**"
      ]
    },
    {
      "metadata": {
        "id": "zkWBgALc6Gnt",
        "colab_type": "code",
        "colab": {
          "base_uri": "https://localhost:8080/",
          "height": 51
        },
        "outputId": "9ec9cfb6-9303-4a06-e6f9-144376954688"
      },
      "cell_type": "code",
      "source": [
        "!wget https://s3.us-east-2.amazonaws.com/audiosamplesyk/train.csv"
      ],
      "execution_count": 1,
      "outputs": [
        {
          "output_type": "stream",
          "text": [
            "\n",
            "Redirecting output to ‘wget-log’.\n"
          ],
          "name": "stdout"
        }
      ]
    },
    {
      "metadata": {
        "id": "7Ibiy294v_H6",
        "colab_type": "code",
        "colab": {
          "base_uri": "https://localhost:8080/",
          "height": 34
        },
        "outputId": "6ae6c631-11cd-4d9b-c740-f36d580e3c52"
      },
      "cell_type": "code",
      "source": [
        "import tensorflow as tf\n",
        "tf.test.gpu_device_name()"
      ],
      "execution_count": 2,
      "outputs": [
        {
          "output_type": "execute_result",
          "data": {
            "text/plain": [
              "'/device:GPU:0'"
            ]
          },
          "metadata": {
            "tags": []
          },
          "execution_count": 2
        }
      ]
    },
    {
      "metadata": {
        "id": "VlyOjsVF6Ro2",
        "colab_type": "code",
        "colab": {
          "base_uri": "https://localhost:8080/",
          "height": 51
        },
        "outputId": "7e822f62-ae6d-4f13-e960-f4c6083f8f7e"
      },
      "cell_type": "code",
      "source": [
        "!wget  https://s3.us-east-2.amazonaws.com/audiosamplesyk/test.csv"
      ],
      "execution_count": 3,
      "outputs": [
        {
          "output_type": "stream",
          "text": [
            "\n",
            "Redirecting output to ‘wget-log.1’.\n"
          ],
          "name": "stdout"
        }
      ]
    },
    {
      "metadata": {
        "id": "5vV65SYd6ZJd",
        "colab_type": "code",
        "colab": {
          "base_uri": "https://localhost:8080/",
          "height": 51
        },
        "outputId": "60bb24b6-916d-4d0e-f7d5-ad9871db451e"
      },
      "cell_type": "code",
      "source": [
        "!wget https://s3.amazonaws.com/audiosampleyug/glove.6B.100d.txt "
      ],
      "execution_count": 4,
      "outputs": [
        {
          "output_type": "stream",
          "text": [
            "\n",
            "Redirecting output to ‘wget-log.2’.\n"
          ],
          "name": "stdout"
        }
      ]
    },
    {
      "metadata": {
        "id": "0huiom9I63pV",
        "colab_type": "text"
      },
      "cell_type": "markdown",
      "source": [
        "**Load required libraries**"
      ]
    },
    {
      "metadata": {
        "id": "VPPnMUsg6wKb",
        "colab_type": "code",
        "colab": {
          "base_uri": "https://localhost:8080/",
          "height": 34
        },
        "outputId": "9688e36f-9082-4872-963c-f26c116c6fde"
      },
      "cell_type": "code",
      "source": [
        "import os\n",
        "import sys\n",
        "import numpy as np\n",
        "import pandas as pd\n",
        "from keras.preprocessing.text import Tokenizer\n",
        "from keras.preprocessing.sequence import pad_sequences\n",
        "from keras.utils import to_categorical\n",
        "from keras.layers import Dense, Input, GlobalMaxPooling1D\n",
        "from keras.layers import Conv1D, MaxPooling1D, Embedding\n",
        "from keras.models import Model"
      ],
      "execution_count": 5,
      "outputs": [
        {
          "output_type": "stream",
          "text": [
            "Using TensorFlow backend.\n"
          ],
          "name": "stderr"
        }
      ]
    },
    {
      "metadata": {
        "id": "aP1qpOk37R82",
        "colab_type": "text"
      },
      "cell_type": "markdown",
      "source": [
        "**Read the data**"
      ]
    },
    {
      "metadata": {
        "id": "BIbe-tRq7RPh",
        "colab_type": "code",
        "colab": {}
      },
      "cell_type": "code",
      "source": [
        "df_train = pd.read_csv(\"train.csv\")\n",
        "\n",
        "df_test = pd.read_csv(\"test.csv\")"
      ],
      "execution_count": 0,
      "outputs": []
    },
    {
      "metadata": {
        "id": "UvjVd44V7eer",
        "colab_type": "text"
      },
      "cell_type": "markdown",
      "source": [
        "**Print head and tail of the data**"
      ]
    },
    {
      "metadata": {
        "id": "kTotmbc37dbZ",
        "colab_type": "code",
        "colab": {
          "base_uri": "https://localhost:8080/",
          "height": 204
        },
        "outputId": "2969ed09-d075-40e6-ea4f-13cbe9cb61c3"
      },
      "cell_type": "code",
      "source": [
        "df_train.head()"
      ],
      "execution_count": 7,
      "outputs": [
        {
          "output_type": "execute_result",
          "data": {
            "text/html": [
              "<div>\n",
              "<style scoped>\n",
              "    .dataframe tbody tr th:only-of-type {\n",
              "        vertical-align: middle;\n",
              "    }\n",
              "\n",
              "    .dataframe tbody tr th {\n",
              "        vertical-align: top;\n",
              "    }\n",
              "\n",
              "    .dataframe thead th {\n",
              "        text-align: right;\n",
              "    }\n",
              "</style>\n",
              "<table border=\"1\" class=\"dataframe\">\n",
              "  <thead>\n",
              "    <tr style=\"text-align: right;\">\n",
              "      <th></th>\n",
              "      <th>ID</th>\n",
              "      <th>categories</th>\n",
              "      <th>converse</th>\n",
              "    </tr>\n",
              "  </thead>\n",
              "  <tbody>\n",
              "    <tr>\n",
              "      <th>0</th>\n",
              "      <td>2</td>\n",
              "      <td>ASK_A_DOCTOR</td>\n",
              "      <td>mom wants to know if the drugname needs some d...</td>\n",
              "    </tr>\n",
              "    <tr>\n",
              "      <th>1</th>\n",
              "      <td>3</td>\n",
              "      <td>ASK_A_DOCTOR</td>\n",
              "      <td>patients to discuss drugname she says she has ...</td>\n",
              "    </tr>\n",
              "    <tr>\n",
              "      <th>2</th>\n",
              "      <td>5</td>\n",
              "      <td>MISCELLANEOUS</td>\n",
              "      <td>letter of patient establishment request name s...</td>\n",
              "    </tr>\n",
              "    <tr>\n",
              "      <th>3</th>\n",
              "      <td>6</td>\n",
              "      <td>APPOINTMENTS</td>\n",
              "      <td>appointment question name mom appointments pat...</td>\n",
              "    </tr>\n",
              "    <tr>\n",
              "      <th>4</th>\n",
              "      <td>8</td>\n",
              "      <td>MISCELLANEOUS</td>\n",
              "      <td>please refax neurocog order to new wake medici...</td>\n",
              "    </tr>\n",
              "  </tbody>\n",
              "</table>\n",
              "</div>"
            ],
            "text/plain": [
              "   ID     categories                                           converse\n",
              "0   2   ASK_A_DOCTOR  mom wants to know if the drugname needs some d...\n",
              "1   3   ASK_A_DOCTOR  patients to discuss drugname she says she has ...\n",
              "2   5  MISCELLANEOUS  letter of patient establishment request name s...\n",
              "3   6   APPOINTMENTS  appointment question name mom appointments pat...\n",
              "4   8  MISCELLANEOUS  please refax neurocog order to new wake medici..."
            ]
          },
          "metadata": {
            "tags": []
          },
          "execution_count": 7
        }
      ]
    },
    {
      "metadata": {
        "id": "siHyXhFm7mtm",
        "colab_type": "code",
        "colab": {
          "base_uri": "https://localhost:8080/",
          "height": 204
        },
        "outputId": "e90ba98a-4541-4c5a-cbd0-22ec8b0d62c1"
      },
      "cell_type": "code",
      "source": [
        "df_train.tail()"
      ],
      "execution_count": 8,
      "outputs": [
        {
          "output_type": "execute_result",
          "data": {
            "text/html": [
              "<div>\n",
              "<style scoped>\n",
              "    .dataframe tbody tr th:only-of-type {\n",
              "        vertical-align: middle;\n",
              "    }\n",
              "\n",
              "    .dataframe tbody tr th {\n",
              "        vertical-align: top;\n",
              "    }\n",
              "\n",
              "    .dataframe thead th {\n",
              "        text-align: right;\n",
              "    }\n",
              "</style>\n",
              "<table border=\"1\" class=\"dataframe\">\n",
              "  <thead>\n",
              "    <tr style=\"text-align: right;\">\n",
              "      <th></th>\n",
              "      <th>ID</th>\n",
              "      <th>categories</th>\n",
              "      <th>converse</th>\n",
              "    </tr>\n",
              "  </thead>\n",
              "  <tbody>\n",
              "    <tr>\n",
              "      <th>45820</th>\n",
              "      <td>57276</td>\n",
              "      <td>PRESCRIPTION</td>\n",
              "      <td>out of medicines rxs name mom prescription ref...</td>\n",
              "    </tr>\n",
              "    <tr>\n",
              "      <th>45821</th>\n",
              "      <td>57277</td>\n",
              "      <td>ASK_A_DOCTOR</td>\n",
              "      <td>patients mom to report a migraine name mom tri...</td>\n",
              "    </tr>\n",
              "    <tr>\n",
              "      <th>45822</th>\n",
              "      <td>57278</td>\n",
              "      <td>MISCELLANEOUS</td>\n",
              "      <td>dental clearance rna follow dental office want...</td>\n",
              "    </tr>\n",
              "    <tr>\n",
              "      <th>45823</th>\n",
              "      <td>57279</td>\n",
              "      <td>MISCELLANEOUS</td>\n",
              "      <td>catheter documentation from other clinic name ...</td>\n",
              "    </tr>\n",
              "    <tr>\n",
              "      <th>45824</th>\n",
              "      <td>57280</td>\n",
              "      <td>MISCELLANEOUS</td>\n",
              "      <td>status of fmla form awaiting md completion nam...</td>\n",
              "    </tr>\n",
              "  </tbody>\n",
              "</table>\n",
              "</div>"
            ],
            "text/plain": [
              "          ID     categories                                           converse\n",
              "45820  57276   PRESCRIPTION  out of medicines rxs name mom prescription ref...\n",
              "45821  57277   ASK_A_DOCTOR  patients mom to report a migraine name mom tri...\n",
              "45822  57278  MISCELLANEOUS  dental clearance rna follow dental office want...\n",
              "45823  57279  MISCELLANEOUS  catheter documentation from other clinic name ...\n",
              "45824  57280  MISCELLANEOUS  status of fmla form awaiting md completion nam..."
            ]
          },
          "metadata": {
            "tags": []
          },
          "execution_count": 8
        }
      ]
    },
    {
      "metadata": {
        "id": "ymXg0sn1JpPw",
        "colab_type": "code",
        "colab": {
          "base_uri": "https://localhost:8080/",
          "height": 204
        },
        "outputId": "a1bdd5db-f570-4425-d5d5-684e45235af9"
      },
      "cell_type": "code",
      "source": [
        "df_test.head()"
      ],
      "execution_count": 9,
      "outputs": [
        {
          "output_type": "execute_result",
          "data": {
            "text/html": [
              "<div>\n",
              "<style scoped>\n",
              "    .dataframe tbody tr th:only-of-type {\n",
              "        vertical-align: middle;\n",
              "    }\n",
              "\n",
              "    .dataframe tbody tr th {\n",
              "        vertical-align: top;\n",
              "    }\n",
              "\n",
              "    .dataframe thead th {\n",
              "        text-align: right;\n",
              "    }\n",
              "</style>\n",
              "<table border=\"1\" class=\"dataframe\">\n",
              "  <thead>\n",
              "    <tr style=\"text-align: right;\">\n",
              "      <th></th>\n",
              "      <th>ID</th>\n",
              "      <th>converse</th>\n",
              "    </tr>\n",
              "  </thead>\n",
              "  <tbody>\n",
              "    <tr>\n",
              "      <th>0</th>\n",
              "      <td>1</td>\n",
              "      <td>patients aware that he needs rov for refill na...</td>\n",
              "    </tr>\n",
              "    <tr>\n",
              "      <th>1</th>\n",
              "      <td>4</td>\n",
              "      <td>fyi nortryptline medication patient prescripti...</td>\n",
              "    </tr>\n",
              "    <tr>\n",
              "      <th>2</th>\n",
              "      <td>7</td>\n",
              "      <td>dizzy double vision past mins after ct other h...</td>\n",
              "    </tr>\n",
              "    <tr>\n",
              "      <th>3</th>\n",
              "      <td>13</td>\n",
              "      <td>please go ahead and order mandibular repositio...</td>\n",
              "    </tr>\n",
              "    <tr>\n",
              "      <th>4</th>\n",
              "      <td>18</td>\n",
              "      <td>last office note faxed to nceent from other cl...</td>\n",
              "    </tr>\n",
              "  </tbody>\n",
              "</table>\n",
              "</div>"
            ],
            "text/plain": [
              "   ID                                           converse\n",
              "0   1  patients aware that he needs rov for refill na...\n",
              "1   4  fyi nortryptline medication patient prescripti...\n",
              "2   7  dizzy double vision past mins after ct other h...\n",
              "3  13  please go ahead and order mandibular repositio...\n",
              "4  18  last office note faxed to nceent from other cl..."
            ]
          },
          "metadata": {
            "tags": []
          },
          "execution_count": 9
        }
      ]
    },
    {
      "metadata": {
        "id": "WVVRgWW-7rLR",
        "colab_type": "text"
      },
      "cell_type": "markdown",
      "source": [
        "**Check structure and summary of the data**"
      ]
    },
    {
      "metadata": {
        "id": "6eGHEZ217pEN",
        "colab_type": "code",
        "colab": {
          "base_uri": "https://localhost:8080/",
          "height": 153
        },
        "outputId": "7ffcf976-c347-4c64-9a86-83dc35b5797a"
      },
      "cell_type": "code",
      "source": [
        "df_train.info()"
      ],
      "execution_count": 10,
      "outputs": [
        {
          "output_type": "stream",
          "text": [
            "<class 'pandas.core.frame.DataFrame'>\n",
            "RangeIndex: 45825 entries, 0 to 45824\n",
            "Data columns (total 3 columns):\n",
            "ID            45825 non-null int64\n",
            "categories    45825 non-null object\n",
            "converse      45796 non-null object\n",
            "dtypes: int64(1), object(2)\n",
            "memory usage: 1.0+ MB\n"
          ],
          "name": "stdout"
        }
      ]
    },
    {
      "metadata": {
        "id": "JM1YYRZn8M2N",
        "colab_type": "code",
        "colab": {
          "base_uri": "https://localhost:8080/",
          "height": 297
        },
        "outputId": "a1c87334-05a9-4259-cf2f-6f62931d26d4"
      },
      "cell_type": "code",
      "source": [
        "df_train.describe()"
      ],
      "execution_count": 11,
      "outputs": [
        {
          "output_type": "execute_result",
          "data": {
            "text/html": [
              "<div>\n",
              "<style scoped>\n",
              "    .dataframe tbody tr th:only-of-type {\n",
              "        vertical-align: middle;\n",
              "    }\n",
              "\n",
              "    .dataframe tbody tr th {\n",
              "        vertical-align: top;\n",
              "    }\n",
              "\n",
              "    .dataframe thead th {\n",
              "        text-align: right;\n",
              "    }\n",
              "</style>\n",
              "<table border=\"1\" class=\"dataframe\">\n",
              "  <thead>\n",
              "    <tr style=\"text-align: right;\">\n",
              "      <th></th>\n",
              "      <th>ID</th>\n",
              "    </tr>\n",
              "  </thead>\n",
              "  <tbody>\n",
              "    <tr>\n",
              "      <th>count</th>\n",
              "      <td>45825.000000</td>\n",
              "    </tr>\n",
              "    <tr>\n",
              "      <th>mean</th>\n",
              "      <td>28645.024441</td>\n",
              "    </tr>\n",
              "    <tr>\n",
              "      <th>std</th>\n",
              "      <td>16545.373029</td>\n",
              "    </tr>\n",
              "    <tr>\n",
              "      <th>min</th>\n",
              "      <td>2.000000</td>\n",
              "    </tr>\n",
              "    <tr>\n",
              "      <th>25%</th>\n",
              "      <td>14296.000000</td>\n",
              "    </tr>\n",
              "    <tr>\n",
              "      <th>50%</th>\n",
              "      <td>28668.000000</td>\n",
              "    </tr>\n",
              "    <tr>\n",
              "      <th>75%</th>\n",
              "      <td>42965.000000</td>\n",
              "    </tr>\n",
              "    <tr>\n",
              "      <th>max</th>\n",
              "      <td>57280.000000</td>\n",
              "    </tr>\n",
              "  </tbody>\n",
              "</table>\n",
              "</div>"
            ],
            "text/plain": [
              "                 ID\n",
              "count  45825.000000\n",
              "mean   28645.024441\n",
              "std    16545.373029\n",
              "min        2.000000\n",
              "25%    14296.000000\n",
              "50%    28668.000000\n",
              "75%    42965.000000\n",
              "max    57280.000000"
            ]
          },
          "metadata": {
            "tags": []
          },
          "execution_count": 11
        }
      ]
    },
    {
      "metadata": {
        "id": "8yF1afHg8SSp",
        "colab_type": "code",
        "colab": {
          "base_uri": "https://localhost:8080/",
          "height": 68
        },
        "outputId": "bf7631f2-a925-4559-adf5-f4ec08082039"
      },
      "cell_type": "code",
      "source": [
        "print('Shape of dataset ',df_train.shape)\n",
        "print(df_train.columns)\n",
        "print('No. of unique classes',len(set(df_train['categories'])))"
      ],
      "execution_count": 12,
      "outputs": [
        {
          "output_type": "stream",
          "text": [
            "Shape of dataset  (45825, 3)\n",
            "Index(['ID', 'categories', 'converse'], dtype='object')\n",
            "No. of unique classes 6\n"
          ],
          "name": "stdout"
        }
      ]
    },
    {
      "metadata": {
        "id": "JIwq1IeY8fTq",
        "colab_type": "code",
        "colab": {
          "base_uri": "https://localhost:8080/",
          "height": 51
        },
        "outputId": "245afc05-8c58-4d37-e3f2-115d592f58de"
      },
      "cell_type": "code",
      "source": [
        "df_train.categories.unique()"
      ],
      "execution_count": 13,
      "outputs": [
        {
          "output_type": "execute_result",
          "data": {
            "text/plain": [
              "array(['ASK_A_DOCTOR', 'MISCELLANEOUS', 'APPOINTMENTS', 'LAB',\n",
              "       'PRESCRIPTION', 'JUNK'], dtype=object)"
            ]
          },
          "metadata": {
            "tags": []
          },
          "execution_count": 13
        }
      ]
    },
    {
      "metadata": {
        "id": "67tfsrZ6Aqdy",
        "colab_type": "code",
        "colab": {
          "base_uri": "https://localhost:8080/",
          "height": 337
        },
        "outputId": "c22284f6-00df-4a48-9697-3db35a372824"
      },
      "cell_type": "code",
      "source": [
        "import seaborn as sns\n",
        "sns.set()\n",
        "fig = plt.figure()\n",
        "plt.figure(figsize=(10,5))\n",
        "plt.hist(df_train.categories)\n",
        "plt.xticks(np.arange(0.2, 6, step=1.))\n",
        "#plt.legend(['Training loss', 'Validation Loss'],fontsize=18)\n",
        "#plt.xlabel('Epochs ',fontsize=16)\n",
        "#plt.ylabel('Loss',fontsize=16)\n",
        "#plt.title('Loss Curves :LSTM',fontsize=16)\n",
        "#fig5.savefig('loss_lstm.png')\n",
        "plt.show()\n",
        "sns.set_context(\"paper\")"
      ],
      "execution_count": 103,
      "outputs": [
        {
          "output_type": "display_data",
          "data": {
            "text/plain": [
              "<matplotlib.figure.Figure at 0x7f5e2d547748>"
            ]
          },
          "metadata": {
            "tags": []
          }
        },
        {
          "output_type": "display_data",
          "data": {
            "image/png": "[encoded data removed]",
            "text/plain": [
              "<matplotlib.figure.Figure at 0x7f5e33202588>"
            ]
          },
          "metadata": {
            "tags": []
          }
        }
      ]
    },
    {
      "metadata": {
        "id": "Q-Vcjlt381dR",
        "colab_type": "text"
      },
      "cell_type": "markdown",
      "source": [
        "**Check null values**"
      ]
    },
    {
      "metadata": {
        "id": "3QYCJ1KS8l34",
        "colab_type": "code",
        "colab": {
          "base_uri": "https://localhost:8080/",
          "height": 85
        },
        "outputId": "bcd904c4-86cf-47cd-edb6-aa96615a6529"
      },
      "cell_type": "code",
      "source": [
        "df_train.isnull().sum()"
      ],
      "execution_count": 14,
      "outputs": [
        {
          "output_type": "execute_result",
          "data": {
            "text/plain": [
              "ID             0\n",
              "categories     0\n",
              "converse      29\n",
              "dtype: int64"
            ]
          },
          "metadata": {
            "tags": []
          },
          "execution_count": 14
        }
      ]
    },
    {
      "metadata": {
        "id": "Zm7OOt3-8-_P",
        "colab_type": "code",
        "colab": {
          "base_uri": "https://localhost:8080/",
          "height": 68
        },
        "outputId": "f6b9af5c-7796-451f-a67e-08f387237bc9"
      },
      "cell_type": "code",
      "source": [
        "df_test.isnull().sum()"
      ],
      "execution_count": 15,
      "outputs": [
        {
          "output_type": "execute_result",
          "data": {
            "text/plain": [
              "ID          0\n",
              "converse    7\n",
              "dtype: int64"
            ]
          },
          "metadata": {
            "tags": []
          },
          "execution_count": 15
        }
      ]
    },
    {
      "metadata": {
        "id": "1v5dd7nLIRlM",
        "colab_type": "text"
      },
      "cell_type": "markdown",
      "source": [
        "**Observe the rows having null values**"
      ]
    },
    {
      "metadata": {
        "id": "zcfr3vfP9HHN",
        "colab_type": "code",
        "colab": {
          "base_uri": "https://localhost:8080/",
          "height": 527
        },
        "outputId": "9a31703f-09ce-4e51-829f-31e02908739e"
      },
      "cell_type": "code",
      "source": [
        "tr_nan_idx = df_train[pd.isnull(df_train['converse'])].index.tolist()\n",
        "\n",
        "print(df_train.loc[tr_nan_idx])"
      ],
      "execution_count": 16,
      "outputs": [
        {
          "output_type": "stream",
          "text": [
            "          ID     categories converse\n",
            "551      682  MISCELLANEOUS      NaN\n",
            "2207    2749  MISCELLANEOUS      NaN\n",
            "5328    6688           JUNK      NaN\n",
            "9688   12086           JUNK      NaN\n",
            "10195  12694   APPOINTMENTS      NaN\n",
            "12782  15924           JUNK      NaN\n",
            "12831  15996  MISCELLANEOUS      NaN\n",
            "14144  17639           JUNK      NaN\n",
            "14207  17721           JUNK      NaN\n",
            "14767  18432           JUNK      NaN\n",
            "15888  19830  MISCELLANEOUS      NaN\n",
            "15905  19852  MISCELLANEOUS      NaN\n",
            "19580  24492           JUNK      NaN\n",
            "20678  25887           JUNK      NaN\n",
            "20760  25991  MISCELLANEOUS      NaN\n",
            "21474  26892  MISCELLANEOUS      NaN\n",
            "22960  28731           JUNK      NaN\n",
            "23029  28817           JUNK      NaN\n",
            "24152  30198  MISCELLANEOUS      NaN\n",
            "24407  30512  MISCELLANEOUS      NaN\n",
            "27780  34727  MISCELLANEOUS      NaN\n",
            "28106  35140  MISCELLANEOUS      NaN\n",
            "29548  36966  MISCELLANEOUS      NaN\n",
            "30219  37810  MISCELLANEOUS      NaN\n",
            "30635  38328  MISCELLANEOUS      NaN\n",
            "35446  44341  MISCELLANEOUS      NaN\n",
            "37623  47057  MISCELLANEOUS      NaN\n",
            "39805  49786  MISCELLANEOUS      NaN\n",
            "41110  51405  MISCELLANEOUS      NaN\n"
          ],
          "name": "stdout"
        }
      ]
    },
    {
      "metadata": {
        "id": "4oGhhQgyI7rR",
        "colab_type": "code",
        "colab": {
          "base_uri": "https://localhost:8080/",
          "height": 153
        },
        "outputId": "7b731c29-4d0f-4739-95da-dc5cc65cb5c2"
      },
      "cell_type": "code",
      "source": [
        "ts_nan_idx = df_test[pd.isnull(df_test['converse'])].index.tolist()\n",
        "\n",
        "print(df_test.loc[ts_nan_idx])"
      ],
      "execution_count": 17,
      "outputs": [
        {
          "output_type": "stream",
          "text": [
            "         ID converse\n",
            "2811  14194      NaN\n",
            "3603  18173      NaN\n",
            "4447  22293      NaN\n",
            "6261  31275      NaN\n",
            "6737  33762      NaN\n",
            "9539  47537      NaN\n",
            "9702  48370      NaN\n"
          ],
          "name": "stdout"
        }
      ]
    },
    {
      "metadata": {
        "id": "UyTOedbAJv2M",
        "colab_type": "text"
      },
      "cell_type": "markdown",
      "source": [
        "**Replace NaN with white space**"
      ]
    },
    {
      "metadata": {
        "id": "WXSY0hgTJvAF",
        "colab_type": "code",
        "colab": {}
      },
      "cell_type": "code",
      "source": [
        "df_train.loc[tr_nan_idx, 'converse'] = ' '\n",
        "df_test.loc[ts_nan_idx, 'converse'] = ' '"
      ],
      "execution_count": 0,
      "outputs": []
    },
    {
      "metadata": {
        "id": "3hT-ccwcKFsQ",
        "colab_type": "code",
        "colab": {
          "base_uri": "https://localhost:8080/",
          "height": 153
        },
        "outputId": "d7fcf903-7b27-4431-ce4a-dec92004535a"
      },
      "cell_type": "code",
      "source": [
        "print(df_test.loc[ts_nan_idx])"
      ],
      "execution_count": 19,
      "outputs": [
        {
          "output_type": "stream",
          "text": [
            "         ID converse\n",
            "2811  14194         \n",
            "3603  18173         \n",
            "4447  22293         \n",
            "6261  31275         \n",
            "6737  33762         \n",
            "9539  47537         \n",
            "9702  48370         \n"
          ],
          "name": "stdout"
        }
      ]
    },
    {
      "metadata": {
        "id": "eVWnp7eZKOKy",
        "colab_type": "text"
      },
      "cell_type": "markdown",
      "source": [
        "**Now again check null values**"
      ]
    },
    {
      "metadata": {
        "id": "biSLwFioKMJ5",
        "colab_type": "code",
        "colab": {
          "base_uri": "https://localhost:8080/",
          "height": 85
        },
        "outputId": "61cf75c5-5112-4311-e76b-027a42175a5f"
      },
      "cell_type": "code",
      "source": [
        "df_train.isnull().sum()"
      ],
      "execution_count": 20,
      "outputs": [
        {
          "output_type": "execute_result",
          "data": {
            "text/plain": [
              "ID            0\n",
              "categories    0\n",
              "converse      0\n",
              "dtype: int64"
            ]
          },
          "metadata": {
            "tags": []
          },
          "execution_count": 20
        }
      ]
    },
    {
      "metadata": {
        "id": "dj6QThekKVmo",
        "colab_type": "code",
        "colab": {
          "base_uri": "https://localhost:8080/",
          "height": 68
        },
        "outputId": "b51dd7fe-945a-4b1d-b90f-7e68074a4a4c"
      },
      "cell_type": "code",
      "source": [
        "df_test.isnull().sum()"
      ],
      "execution_count": 21,
      "outputs": [
        {
          "output_type": "execute_result",
          "data": {
            "text/plain": [
              "ID          0\n",
              "converse    0\n",
              "dtype: int64"
            ]
          },
          "metadata": {
            "tags": []
          },
          "execution_count": 21
        }
      ]
    },
    {
      "metadata": {
        "id": "wRg_iRbNRdci",
        "colab_type": "code",
        "colab": {}
      },
      "cell_type": "code",
      "source": [
        "#dictionary mapping label name to numeric id\n",
        "sort=sorted(set(df_train['categories']))\n",
        "labels_index = dict((text, number) for text, number in enumerate(sort))\n"
      ],
      "execution_count": 0,
      "outputs": []
    },
    {
      "metadata": {
        "id": "UKaLcGSCqTsn",
        "colab_type": "code",
        "colab": {
          "base_uri": "https://localhost:8080/",
          "height": 119
        },
        "outputId": "253604d5-1542-4046-9f29-4ea1e16a6ebd"
      },
      "cell_type": "code",
      "source": [
        "labels_index"
      ],
      "execution_count": 23,
      "outputs": [
        {
          "output_type": "execute_result",
          "data": {
            "text/plain": [
              "{0: 'APPOINTMENTS',\n",
              " 1: 'ASK_A_DOCTOR',\n",
              " 2: 'JUNK',\n",
              " 3: 'LAB',\n",
              " 4: 'MISCELLANEOUS',\n",
              " 5: 'PRESCRIPTION'}"
            ]
          },
          "metadata": {
            "tags": []
          },
          "execution_count": 23
        }
      ]
    },
    {
      "metadata": {
        "id": "6GJy_p_OMT0l",
        "colab_type": "code",
        "colab": {}
      },
      "cell_type": "code",
      "source": [
        "texts = df_train.converse\n",
        "labels = df_train.categories\n",
        "ts_texts = df_test.converse"
      ],
      "execution_count": 0,
      "outputs": []
    },
    {
      "metadata": {
        "id": "nsKdbXGLNfm4",
        "colab_type": "text"
      },
      "cell_type": "markdown",
      "source": [
        "**Text Preprocessing using keras**"
      ]
    },
    {
      "metadata": {
        "id": "LnGGp-BSM43S",
        "colab_type": "code",
        "colab": {}
      },
      "cell_type": "code",
      "source": [
        "MAX_SEQUENCE_LENGTH = 1000\n",
        "MAX_NUM_WORDS = 20000\n",
        "EMBEDDING_DIM = 100\n",
        "VALIDATION_SPLIT = 0.2\n",
        "nb_epochs = 10"
      ],
      "execution_count": 0,
      "outputs": []
    },
    {
      "metadata": {
        "id": "xJCWAZq7Nldf",
        "colab_type": "code",
        "colab": {
          "base_uri": "https://localhost:8080/",
          "height": 34
        },
        "outputId": "94468e63-f955-4923-dd71-b95764ced739"
      },
      "cell_type": "code",
      "source": [
        "tokenizer = Tokenizer(num_words=MAX_NUM_WORDS)\n",
        "tokenizer.fit_on_texts(texts)\n",
        "sequences = tokenizer.texts_to_sequences(texts)\n",
        "ts_sequences = tokenizer.texts_to_sequences(ts_texts)\n",
        "\n",
        "word_index = tokenizer.word_index\n",
        "print('Number of Unique Tokens',len(word_index))"
      ],
      "execution_count": 26,
      "outputs": [
        {
          "output_type": "stream",
          "text": [
            "Number of Unique Tokens 34769\n"
          ],
          "name": "stdout"
        }
      ]
    },
    {
      "metadata": {
        "id": "CsfcLvmyNozI",
        "colab_type": "code",
        "colab": {}
      },
      "cell_type": "code",
      "source": [
        "# converts the character array to numeric array. Assigns levels to unique labels.\n",
        "from sklearn.preprocessing import LabelEncoder\n",
        "le = LabelEncoder()                 \n",
        "le.fit(labels)\n",
        "train_labels = le.transform(labels)"
      ],
      "execution_count": 0,
      "outputs": []
    },
    {
      "metadata": {
        "id": "NyGfnH-9Nzxc",
        "colab_type": "code",
        "colab": {
          "base_uri": "https://localhost:8080/",
          "height": 51
        },
        "outputId": "7853f8c8-3734-4e9f-ea80-19c2ffbab720"
      },
      "cell_type": "code",
      "source": [
        "data = pad_sequences(sequences, maxlen=MAX_SEQUENCE_LENGTH)\n",
        "ts_data = pad_sequences(ts_sequences, maxlen=MAX_SEQUENCE_LENGTH)\n",
        "labels = to_categorical(np.asarray(train_labels))\n",
        "print('Shape of Data Tensor:', data.shape)\n",
        "print('Shape of Label Tensor:', labels.shape)"
      ],
      "execution_count": 28,
      "outputs": [
        {
          "output_type": "stream",
          "text": [
            "Shape of Data Tensor: (45825, 1000)\n",
            "Shape of Label Tensor: (45825, 6)\n"
          ],
          "name": "stdout"
        }
      ]
    },
    {
      "metadata": {
        "id": "pE9SUWRSpT1t",
        "colab_type": "text"
      },
      "cell_type": "markdown",
      "source": [
        "**Train and validation split**"
      ]
    },
    {
      "metadata": {
        "id": "bymExd7dOGV8",
        "colab_type": "code",
        "colab": {}
      },
      "cell_type": "code",
      "source": [
        "indices = np.arange(data.shape[0])\n",
        "np.random.shuffle(indices)\n",
        "data = data[indices]\n",
        "labels = labels[indices]\n",
        "nb_validation_samples = int(VALIDATION_SPLIT * data.shape[0])\n",
        "\n",
        "x_train = data[:-nb_validation_samples]\n",
        "y_train = labels[:-nb_validation_samples]\n",
        "x_val = data[-nb_validation_samples:]\n",
        "y_val = labels[-nb_validation_samples:]"
      ],
      "execution_count": 0,
      "outputs": []
    },
    {
      "metadata": {
        "id": "qtpTuzKzhcC3",
        "colab_type": "code",
        "colab": {
          "base_uri": "https://localhost:8080/",
          "height": 34
        },
        "outputId": "df1d80d2-b0bb-4f47-b770-22a4f2790f3b"
      },
      "cell_type": "code",
      "source": [
        "indices"
      ],
      "execution_count": 30,
      "outputs": [
        {
          "output_type": "execute_result",
          "data": {
            "text/plain": [
              "array([17789, 24913, 26511, ..., 25959, 34190, 26556])"
            ]
          },
          "metadata": {
            "tags": []
          },
          "execution_count": 30
        }
      ]
    },
    {
      "metadata": {
        "id": "xDmXpe9aPhPz",
        "colab_type": "text"
      },
      "cell_type": "markdown",
      "source": [
        "**Build index mapping words in the embeddings set to their embedding vector**"
      ]
    },
    {
      "metadata": {
        "id": "zUcx8y5XPgBK",
        "colab_type": "code",
        "colab": {
          "base_uri": "https://localhost:8080/",
          "height": 34
        },
        "outputId": "700d0690-3b78-48d0-97b7-665c0d96b98b"
      },
      "cell_type": "code",
      "source": [
        "embeddings_index = {}\n",
        "f = open('glove.6B.100d.txt',encoding='utf8')\n",
        "for line in f:\n",
        "    values = line.split()\n",
        "    word = values[0]\n",
        "    coefs = np.asarray(values[1:], dtype='float32')\n",
        "    embeddings_index[word] = coefs\n",
        "f.close()\n",
        "\n",
        "print('Total %s word vectors in Glove 6B 100d.' % len(embeddings_index))"
      ],
      "execution_count": 31,
      "outputs": [
        {
          "output_type": "stream",
          "text": [
            "Total 400000 word vectors in Glove 6B 100d.\n"
          ],
          "name": "stdout"
        }
      ]
    },
    {
      "metadata": {
        "id": "t2rgQd96P9mr",
        "colab_type": "text"
      },
      "cell_type": "markdown",
      "source": [
        "**Prepare embedding matrix**"
      ]
    },
    {
      "metadata": {
        "id": "aAHUq5LRP4zp",
        "colab_type": "code",
        "colab": {}
      },
      "cell_type": "code",
      "source": [
        "num_words = len(word_index) + 1\n",
        "embedding_matrix = np.random.random((len(word_index) + 1, EMBEDDING_DIM))\n",
        "for word, i in word_index.items():\n",
        "    embedding_vector = embeddings_index.get(word)\n",
        "    if embedding_vector is not None:\n",
        "        # words not found in embedding index will be all-zeros.\n",
        "        embedding_matrix[i] = embedding_vector\n",
        "\n",
        "embedding_layer = Embedding(len(word_index) + 1,\n",
        "                            EMBEDDING_DIM,weights=[embedding_matrix],\n",
        "                            input_length=MAX_SEQUENCE_LENGTH,trainable=True)"
      ],
      "execution_count": 0,
      "outputs": []
    },
    {
      "metadata": {
        "id": "bmkfa1zHYnQv",
        "colab_type": "text"
      },
      "cell_type": "markdown",
      "source": [
        "**1D-CNN - GLOVE Vectors**"
      ]
    },
    {
      "metadata": {
        "id": "Euxl2yeAQRMz",
        "colab_type": "code",
        "colab": {
          "base_uri": "https://localhost:8080/",
          "height": 510
        },
        "outputId": "9db44868-170b-4fd7-f0e4-9d060c7a17ad"
      },
      "cell_type": "code",
      "source": [
        "print('Training model.')\n",
        "\n",
        "# train a 1D convnet with global maxpooling\n",
        "sequence_input = Input(shape=(MAX_SEQUENCE_LENGTH,), dtype='int32')\n",
        "embedded_sequences = embedding_layer(sequence_input)\n",
        "x = Conv1D(128, 5, activation='relu')(embedded_sequences)\n",
        "x = MaxPooling1D(5)(x)\n",
        "x = Conv1D(128, 5, activation='relu')(x)\n",
        "x = MaxPooling1D(5)(x)\n",
        "x = Conv1D(128, 5, activation='relu')(x)\n",
        "x = GlobalMaxPooling1D()(x)\n",
        "x = Dense(128, activation='relu')(x)\n",
        "preds = Dense(len(labels_index), activation='softmax')(x)\n",
        "\n",
        "from keras.optimizers import Adam\n",
        "adam = Adam(lr=0.001)\n",
        "model1 = Model(sequence_input, preds)\n",
        "model1.compile(loss='categorical_crossentropy',\n",
        "              optimizer=adam,\n",
        "              metrics=['acc'])\n",
        "\n",
        "print(\"Simple convolutional neural network\")\n",
        "model1.summary()\n",
        "from keras.callbacks import ModelCheckpoint\n",
        "cp=ModelCheckpoint('model_cnn.hdf5',monitor='val_acc',verbose=1,save_best_only=True)"
      ],
      "execution_count": 45,
      "outputs": [
        {
          "output_type": "stream",
          "text": [
            "Training model.\n",
            "Simple convolutional neural network\n",
            "_________________________________________________________________\n",
            "Layer (type)                 Output Shape              Param #   \n",
            "=================================================================\n",
            "input_7 (InputLayer)         (None, 1000)              0         \n",
            "_________________________________________________________________\n",
            "embedding_1 (Embedding)      (None, 1000, 100)         3477000   \n",
            "_________________________________________________________________\n",
            "conv1d_1 (Conv1D)            (None, 996, 128)          64128     \n",
            "_________________________________________________________________\n",
            "max_pooling1d_1 (MaxPooling1 (None, 199, 128)          0         \n",
            "_________________________________________________________________\n",
            "conv1d_2 (Conv1D)            (None, 195, 128)          82048     \n",
            "_________________________________________________________________\n",
            "max_pooling1d_2 (MaxPooling1 (None, 39, 128)           0         \n",
            "_________________________________________________________________\n",
            "conv1d_3 (Conv1D)            (None, 35, 128)           82048     \n",
            "_________________________________________________________________\n",
            "global_max_pooling1d_1 (Glob (None, 128)               0         \n",
            "_________________________________________________________________\n",
            "dense_5 (Dense)              (None, 128)               16512     \n",
            "_________________________________________________________________\n",
            "dense_6 (Dense)              (None, 6)                 774       \n",
            "=================================================================\n",
            "Total params: 3,722,510\n",
            "Trainable params: 3,722,510\n",
            "Non-trainable params: 0\n",
            "_________________________________________________________________\n"
          ],
          "name": "stdout"
        }
      ]
    },
    {
      "metadata": {
        "id": "zTsSxi92aC2T",
        "colab_type": "code",
        "colab": {
          "base_uri": "https://localhost:8080/",
          "height": 714
        },
        "outputId": "33bbc0bd-1799-41d2-85b0-ddbb5631ed9f"
      },
      "cell_type": "code",
      "source": [
        "model1_hist = model1.fit(x_train, y_train,\n",
        "              batch_size=128,\n",
        "              epochs=nb_epochs,\n",
        "              validation_data=(x_val, y_val),callbacks=[cp])"
      ],
      "execution_count": 62,
      "outputs": [
        {
          "output_type": "stream",
          "text": [
            "Train on 36660 samples, validate on 9165 samples\n",
            "Epoch 1/10\n",
            "36660/36660 [==============================] - 24s 659us/step - loss: 0.2235 - acc: 0.9205 - val_loss: 0.6452 - val_acc: 0.8002\n",
            "\n",
            "Epoch 00001: val_acc did not improve from 0.80917\n",
            "Epoch 2/10\n",
            "36660/36660 [==============================] - 24s 655us/step - loss: 0.1515 - acc: 0.9476 - val_loss: 0.7651 - val_acc: 0.7961\n",
            "\n",
            "Epoch 00002: val_acc did not improve from 0.80917\n",
            "Epoch 3/10\n",
            "36660/36660 [==============================] - 24s 652us/step - loss: 0.1096 - acc: 0.9609 - val_loss: 0.8087 - val_acc: 0.7967\n",
            "\n",
            "Epoch 00003: val_acc did not improve from 0.80917\n",
            "Epoch 4/10\n",
            "36660/36660 [==============================] - 24s 656us/step - loss: 0.0663 - acc: 0.9773 - val_loss: 1.0951 - val_acc: 0.7725\n",
            "\n",
            "Epoch 00004: val_acc did not improve from 0.80917\n",
            "Epoch 5/10\n",
            "36660/36660 [==============================] - 24s 655us/step - loss: 0.0586 - acc: 0.9794 - val_loss: 1.1076 - val_acc: 0.7926\n",
            "\n",
            "Epoch 00005: val_acc did not improve from 0.80917\n",
            "Epoch 6/10\n",
            "36660/36660 [==============================] - 24s 656us/step - loss: 0.0423 - acc: 0.9858 - val_loss: 1.2743 - val_acc: 0.7868\n",
            "\n",
            "Epoch 00006: val_acc did not improve from 0.80917\n",
            "Epoch 7/10\n",
            "36660/36660 [==============================] - 24s 656us/step - loss: 0.0442 - acc: 0.9847 - val_loss: 1.4201 - val_acc: 0.7798\n",
            "\n",
            "Epoch 00007: val_acc did not improve from 0.80917\n",
            "Epoch 8/10\n",
            "36660/36660 [==============================] - 24s 654us/step - loss: 0.0505 - acc: 0.9820 - val_loss: 1.3123 - val_acc: 0.7843\n",
            "\n",
            "Epoch 00008: val_acc did not improve from 0.80917\n",
            "Epoch 9/10\n",
            "36660/36660 [==============================] - 24s 656us/step - loss: 0.0262 - acc: 0.9906 - val_loss: 1.5849 - val_acc: 0.7774\n",
            "\n",
            "Epoch 00009: val_acc did not improve from 0.80917\n",
            "Epoch 10/10\n",
            "36660/36660 [==============================] - 24s 657us/step - loss: 0.0345 - acc: 0.9875 - val_loss: 1.4168 - val_acc: 0.7843\n",
            "\n",
            "Epoch 00010: val_acc did not improve from 0.80917\n"
          ],
          "name": "stdout"
        }
      ]
    },
    {
      "metadata": {
        "id": "xUe3ZFeA0KQs",
        "colab_type": "code",
        "colab": {
          "base_uri": "https://localhost:8080/",
          "height": 302
        },
        "outputId": "89a9b656-9bda-4705-8164-7365c018cf18"
      },
      "cell_type": "code",
      "source": [
        "import matplotlib.pyplot as plt\n",
        "%matplotlib inline\n",
        "\n",
        "fig1 = plt.figure()\n",
        "plt.plot(model1_hist.history['loss'],'r',linewidth=3.0)\n",
        "plt.plot(model1_hist.history['val_loss'],'b',linewidth=3.0)\n",
        "plt.legend(['Training loss', 'Validation Loss'],fontsize=18)\n",
        "plt.xlabel('Epochs ',fontsize=16)\n",
        "plt.ylabel('Loss',fontsize=16)\n",
        "plt.title('Loss Curves :CNN',fontsize=16)\n",
        "fig1.savefig('loss_cnn.png')\n",
        "plt.show()\n",
        "\n"
      ],
      "execution_count": 63,
      "outputs": [
        {
          "output_type": "display_data",
          "data": {
            "image/png": "[encoded data removed]",
            "text/plain": [
              "<matplotlib.figure.Figure at 0x7f5e310becf8>"
            ]
          },
          "metadata": {
            "tags": []
          }
        }
      ]
    },
    {
      "metadata": {
        "id": "jO86yzm496aM",
        "colab_type": "code",
        "colab": {
          "base_uri": "https://localhost:8080/",
          "height": 302
        },
        "outputId": "54713426-e7a5-465c-8382-6a35c4ce4bf2"
      },
      "cell_type": "code",
      "source": [
        "fig2=plt.figure()\n",
        "plt.plot(model1_hist.history['acc'],'r',linewidth=3.0)\n",
        "plt.plot(model1_hist.history['val_acc'],'b',linewidth=3.0)\n",
        "plt.legend(['Training Accuracy', 'Validation Accuracy'],fontsize=18)\n",
        "plt.xlabel('Epochs ',fontsize=16)\n",
        "plt.ylabel('Accuracy',fontsize=16)\n",
        "plt.title('Accuracy Curves : CNN',fontsize=16)\n",
        "fig2.savefig('accuracy_cnn.png')\n",
        "plt.show()"
      ],
      "execution_count": 64,
      "outputs": [
        {
          "output_type": "display_data",
          "data": {
            "image/png": "[encoded data removed]",
            "text/plain": [
              "<matplotlib.figure.Figure at 0x7f5e1a27aa90>"
            ]
          },
          "metadata": {
            "tags": []
          }
        }
      ]
    },
    {
      "metadata": {
        "id": "y3FHk-8kJ9SO",
        "colab_type": "code",
        "colab": {}
      },
      "cell_type": "code",
      "source": [
        "predict = model1.predict(ts_data)"
      ],
      "execution_count": 0,
      "outputs": []
    },
    {
      "metadata": {
        "id": "b0LSbk1QMUyw",
        "colab_type": "code",
        "colab": {}
      },
      "cell_type": "code",
      "source": [
        "test_classes = predict.argmax(axis=-1)"
      ],
      "execution_count": 0,
      "outputs": []
    },
    {
      "metadata": {
        "id": "0_3wG12GMciS",
        "colab_type": "code",
        "colab": {
          "base_uri": "https://localhost:8080/",
          "height": 34
        },
        "outputId": "719648c1-7a08-4123-bb1a-65141d4a59e4"
      },
      "cell_type": "code",
      "source": [
        "test_classes"
      ],
      "execution_count": 51,
      "outputs": [
        {
          "output_type": "execute_result",
          "data": {
            "text/plain": [
              "array([5, 1, 1, ..., 0, 5, 4])"
            ]
          },
          "metadata": {
            "tags": []
          },
          "execution_count": 51
        }
      ]
    },
    {
      "metadata": {
        "id": "mZOm3i45W1QD",
        "colab_type": "code",
        "colab": {}
      },
      "cell_type": "code",
      "source": [
        "categories = []"
      ],
      "execution_count": 0,
      "outputs": []
    },
    {
      "metadata": {
        "id": "BGEsfsSNWJ8A",
        "colab_type": "code",
        "colab": {}
      },
      "cell_type": "code",
      "source": [
        "for x in range(0, test_classes.size):\n",
        "  a = test_classes[x]\n",
        "  categories.append(labels_index[a])"
      ],
      "execution_count": 0,
      "outputs": []
    },
    {
      "metadata": {
        "id": "hyGUyS_PXFa3",
        "colab_type": "code",
        "colab": {
          "base_uri": "https://localhost:8080/",
          "height": 17034
        },
        "outputId": "3511d2b2-59a5-4eb1-8873-8d056107972e"
      },
      "cell_type": "code",
      "source": [
        "categories"
      ],
      "execution_count": 54,
      "outputs": [
        {
          "output_type": "execute_result",
          "data": {
            "text/plain": [
              "['PRESCRIPTION',\n",
              " 'ASK_A_DOCTOR',\n",
              " 'ASK_A_DOCTOR',\n",
              " 'ASK_A_DOCTOR',\n",
              " 'MISCELLANEOUS',\n",
              " 'PRESCRIPTION',\n",
              " 'PRESCRIPTION',\n",
              " 'LAB',\n",
              " 'APPOINTMENTS',\n",
              " 'LAB',\n",
              " 'APPOINTMENTS',\n",
              " 'ASK_A_DOCTOR',\n",
              " 'APPOINTMENTS',\n",
              " 'MISCELLANEOUS',\n",
              " 'APPOINTMENTS',\n",
              " 'ASK_A_DOCTOR',\n",
              " 'PRESCRIPTION',\n",
              " 'ASK_A_DOCTOR',\n",
              " 'MISCELLANEOUS',\n",
              " 'MISCELLANEOUS',\n",
              " 'PRESCRIPTION',\n",
              " 'ASK_A_DOCTOR',\n",
              " 'LAB',\n",
              " 'APPOINTMENTS',\n",
              " 'PRESCRIPTION',\n",
              " 'ASK_A_DOCTOR',\n",
              " 'MISCELLANEOUS',\n",
              " 'APPOINTMENTS',\n",
              " 'ASK_A_DOCTOR',\n",
              " 'APPOINTMENTS',\n",
              " 'MISCELLANEOUS',\n",
              " 'ASK_A_DOCTOR',\n",
              " 'ASK_A_DOCTOR',\n",
              " 'PRESCRIPTION',\n",
              " 'MISCELLANEOUS',\n",
              " 'ASK_A_DOCTOR',\n",
              " 'PRESCRIPTION',\n",
              " 'PRESCRIPTION',\n",
              " 'APPOINTMENTS',\n",
              " 'PRESCRIPTION',\n",
              " 'PRESCRIPTION',\n",
              " 'APPOINTMENTS',\n",
              " 'ASK_A_DOCTOR',\n",
              " 'APPOINTMENTS',\n",
              " 'APPOINTMENTS',\n",
              " 'PRESCRIPTION',\n",
              " 'LAB',\n",
              " 'APPOINTMENTS',\n",
              " 'PRESCRIPTION',\n",
              " 'LAB',\n",
              " 'PRESCRIPTION',\n",
              " 'MISCELLANEOUS',\n",
              " 'ASK_A_DOCTOR',\n",
              " 'APPOINTMENTS',\n",
              " 'APPOINTMENTS',\n",
              " 'APPOINTMENTS',\n",
              " 'APPOINTMENTS',\n",
              " 'MISCELLANEOUS',\n",
              " 'LAB',\n",
              " 'APPOINTMENTS',\n",
              " 'PRESCRIPTION',\n",
              " 'MISCELLANEOUS',\n",
              " 'MISCELLANEOUS',\n",
              " 'LAB',\n",
              " 'ASK_A_DOCTOR',\n",
              " 'PRESCRIPTION',\n",
              " 'PRESCRIPTION',\n",
              " 'ASK_A_DOCTOR',\n",
              " 'MISCELLANEOUS',\n",
              " 'PRESCRIPTION',\n",
              " 'MISCELLANEOUS',\n",
              " 'APPOINTMENTS',\n",
              " 'LAB',\n",
              " 'APPOINTMENTS',\n",
              " 'ASK_A_DOCTOR',\n",
              " 'MISCELLANEOUS',\n",
              " 'PRESCRIPTION',\n",
              " 'PRESCRIPTION',\n",
              " 'ASK_A_DOCTOR',\n",
              " 'APPOINTMENTS',\n",
              " 'ASK_A_DOCTOR',\n",
              " 'MISCELLANEOUS',\n",
              " 'PRESCRIPTION',\n",
              " 'ASK_A_DOCTOR',\n",
              " 'APPOINTMENTS',\n",
              " 'MISCELLANEOUS',\n",
              " 'APPOINTMENTS',\n",
              " 'PRESCRIPTION',\n",
              " 'MISCELLANEOUS',\n",
              " 'MISCELLANEOUS',\n",
              " 'PRESCRIPTION',\n",
              " 'ASK_A_DOCTOR',\n",
              " 'PRESCRIPTION',\n",
              " 'APPOINTMENTS',\n",
              " 'MISCELLANEOUS',\n",
              " 'APPOINTMENTS',\n",
              " 'ASK_A_DOCTOR',\n",
              " 'ASK_A_DOCTOR',\n",
              " 'APPOINTMENTS',\n",
              " 'MISCELLANEOUS',\n",
              " 'ASK_A_DOCTOR',\n",
              " 'ASK_A_DOCTOR',\n",
              " 'APPOINTMENTS',\n",
              " 'MISCELLANEOUS',\n",
              " 'ASK_A_DOCTOR',\n",
              " 'MISCELLANEOUS',\n",
              " 'LAB',\n",
              " 'MISCELLANEOUS',\n",
              " 'MISCELLANEOUS',\n",
              " 'LAB',\n",
              " 'PRESCRIPTION',\n",
              " 'APPOINTMENTS',\n",
              " 'PRESCRIPTION',\n",
              " 'APPOINTMENTS',\n",
              " 'PRESCRIPTION',\n",
              " 'ASK_A_DOCTOR',\n",
              " 'PRESCRIPTION',\n",
              " 'MISCELLANEOUS',\n",
              " 'ASK_A_DOCTOR',\n",
              " 'PRESCRIPTION',\n",
              " 'ASK_A_DOCTOR',\n",
              " 'PRESCRIPTION',\n",
              " 'PRESCRIPTION',\n",
              " 'MISCELLANEOUS',\n",
              " 'PRESCRIPTION',\n",
              " 'MISCELLANEOUS',\n",
              " 'PRESCRIPTION',\n",
              " 'PRESCRIPTION',\n",
              " 'APPOINTMENTS',\n",
              " 'PRESCRIPTION',\n",
              " 'ASK_A_DOCTOR',\n",
              " 'APPOINTMENTS',\n",
              " 'APPOINTMENTS',\n",
              " 'ASK_A_DOCTOR',\n",
              " 'ASK_A_DOCTOR',\n",
              " 'ASK_A_DOCTOR',\n",
              " 'ASK_A_DOCTOR',\n",
              " 'MISCELLANEOUS',\n",
              " 'APPOINTMENTS',\n",
              " 'APPOINTMENTS',\n",
              " 'PRESCRIPTION',\n",
              " 'APPOINTMENTS',\n",
              " 'PRESCRIPTION',\n",
              " 'ASK_A_DOCTOR',\n",
              " 'PRESCRIPTION',\n",
              " 'PRESCRIPTION',\n",
              " 'APPOINTMENTS',\n",
              " 'PRESCRIPTION',\n",
              " 'PRESCRIPTION',\n",
              " 'MISCELLANEOUS',\n",
              " 'MISCELLANEOUS',\n",
              " 'PRESCRIPTION',\n",
              " 'PRESCRIPTION',\n",
              " 'ASK_A_DOCTOR',\n",
              " 'MISCELLANEOUS',\n",
              " 'MISCELLANEOUS',\n",
              " 'PRESCRIPTION',\n",
              " 'PRESCRIPTION',\n",
              " 'MISCELLANEOUS',\n",
              " 'ASK_A_DOCTOR',\n",
              " 'LAB',\n",
              " 'MISCELLANEOUS',\n",
              " 'LAB',\n",
              " 'MISCELLANEOUS',\n",
              " 'PRESCRIPTION',\n",
              " 'PRESCRIPTION',\n",
              " 'APPOINTMENTS',\n",
              " 'PRESCRIPTION',\n",
              " 'ASK_A_DOCTOR',\n",
              " 'MISCELLANEOUS',\n",
              " 'PRESCRIPTION',\n",
              " 'ASK_A_DOCTOR',\n",
              " 'MISCELLANEOUS',\n",
              " 'PRESCRIPTION',\n",
              " 'LAB',\n",
              " 'PRESCRIPTION',\n",
              " 'PRESCRIPTION',\n",
              " 'PRESCRIPTION',\n",
              " 'PRESCRIPTION',\n",
              " 'PRESCRIPTION',\n",
              " 'APPOINTMENTS',\n",
              " 'APPOINTMENTS',\n",
              " 'ASK_A_DOCTOR',\n",
              " 'MISCELLANEOUS',\n",
              " 'PRESCRIPTION',\n",
              " 'MISCELLANEOUS',\n",
              " 'ASK_A_DOCTOR',\n",
              " 'ASK_A_DOCTOR',\n",
              " 'PRESCRIPTION',\n",
              " 'MISCELLANEOUS',\n",
              " 'APPOINTMENTS',\n",
              " 'MISCELLANEOUS',\n",
              " 'PRESCRIPTION',\n",
              " 'PRESCRIPTION',\n",
              " 'PRESCRIPTION',\n",
              " 'PRESCRIPTION',\n",
              " 'PRESCRIPTION',\n",
              " 'MISCELLANEOUS',\n",
              " 'APPOINTMENTS',\n",
              " 'APPOINTMENTS',\n",
              " 'LAB',\n",
              " 'APPOINTMENTS',\n",
              " 'ASK_A_DOCTOR',\n",
              " 'PRESCRIPTION',\n",
              " 'MISCELLANEOUS',\n",
              " 'MISCELLANEOUS',\n",
              " 'PRESCRIPTION',\n",
              " 'PRESCRIPTION',\n",
              " 'MISCELLANEOUS',\n",
              " 'LAB',\n",
              " 'LAB',\n",
              " 'LAB',\n",
              " 'APPOINTMENTS',\n",
              " 'MISCELLANEOUS',\n",
              " 'ASK_A_DOCTOR',\n",
              " 'PRESCRIPTION',\n",
              " 'PRESCRIPTION',\n",
              " 'PRESCRIPTION',\n",
              " 'ASK_A_DOCTOR',\n",
              " 'APPOINTMENTS',\n",
              " 'MISCELLANEOUS',\n",
              " 'ASK_A_DOCTOR',\n",
              " 'MISCELLANEOUS',\n",
              " 'MISCELLANEOUS',\n",
              " 'PRESCRIPTION',\n",
              " 'MISCELLANEOUS',\n",
              " 'PRESCRIPTION',\n",
              " 'PRESCRIPTION',\n",
              " 'PRESCRIPTION',\n",
              " 'PRESCRIPTION',\n",
              " 'APPOINTMENTS',\n",
              " 'APPOINTMENTS',\n",
              " 'PRESCRIPTION',\n",
              " 'PRESCRIPTION',\n",
              " 'APPOINTMENTS',\n",
              " 'MISCELLANEOUS',\n",
              " 'ASK_A_DOCTOR',\n",
              " 'PRESCRIPTION',\n",
              " 'ASK_A_DOCTOR',\n",
              " 'LAB',\n",
              " 'PRESCRIPTION',\n",
              " 'ASK_A_DOCTOR',\n",
              " 'APPOINTMENTS',\n",
              " 'MISCELLANEOUS',\n",
              " 'APPOINTMENTS',\n",
              " 'PRESCRIPTION',\n",
              " 'PRESCRIPTION',\n",
              " 'APPOINTMENTS',\n",
              " 'ASK_A_DOCTOR',\n",
              " 'PRESCRIPTION',\n",
              " 'ASK_A_DOCTOR',\n",
              " 'ASK_A_DOCTOR',\n",
              " 'PRESCRIPTION',\n",
              " 'PRESCRIPTION',\n",
              " 'MISCELLANEOUS',\n",
              " 'ASK_A_DOCTOR',\n",
              " 'APPOINTMENTS',\n",
              " 'MISCELLANEOUS',\n",
              " 'PRESCRIPTION',\n",
              " 'MISCELLANEOUS',\n",
              " 'PRESCRIPTION',\n",
              " 'LAB',\n",
              " 'MISCELLANEOUS',\n",
              " 'APPOINTMENTS',\n",
              " 'MISCELLANEOUS',\n",
              " 'APPOINTMENTS',\n",
              " 'MISCELLANEOUS',\n",
              " 'PRESCRIPTION',\n",
              " 'PRESCRIPTION',\n",
              " 'LAB',\n",
              " 'ASK_A_DOCTOR',\n",
              " 'PRESCRIPTION',\n",
              " 'PRESCRIPTION',\n",
              " 'MISCELLANEOUS',\n",
              " 'APPOINTMENTS',\n",
              " 'PRESCRIPTION',\n",
              " 'PRESCRIPTION',\n",
              " 'LAB',\n",
              " 'APPOINTMENTS',\n",
              " 'PRESCRIPTION',\n",
              " 'PRESCRIPTION',\n",
              " 'PRESCRIPTION',\n",
              " 'PRESCRIPTION',\n",
              " 'LAB',\n",
              " 'APPOINTMENTS',\n",
              " 'ASK_A_DOCTOR',\n",
              " 'MISCELLANEOUS',\n",
              " 'APPOINTMENTS',\n",
              " 'APPOINTMENTS',\n",
              " 'PRESCRIPTION',\n",
              " 'PRESCRIPTION',\n",
              " 'MISCELLANEOUS',\n",
              " 'APPOINTMENTS',\n",
              " 'PRESCRIPTION',\n",
              " 'MISCELLANEOUS',\n",
              " 'PRESCRIPTION',\n",
              " 'PRESCRIPTION',\n",
              " 'PRESCRIPTION',\n",
              " 'ASK_A_DOCTOR',\n",
              " 'APPOINTMENTS',\n",
              " 'ASK_A_DOCTOR',\n",
              " 'APPOINTMENTS',\n",
              " 'APPOINTMENTS',\n",
              " 'ASK_A_DOCTOR',\n",
              " 'PRESCRIPTION',\n",
              " 'PRESCRIPTION',\n",
              " 'APPOINTMENTS',\n",
              " 'MISCELLANEOUS',\n",
              " 'PRESCRIPTION',\n",
              " 'APPOINTMENTS',\n",
              " 'PRESCRIPTION',\n",
              " 'APPOINTMENTS',\n",
              " 'PRESCRIPTION',\n",
              " 'MISCELLANEOUS',\n",
              " 'PRESCRIPTION',\n",
              " 'APPOINTMENTS',\n",
              " 'PRESCRIPTION',\n",
              " 'PRESCRIPTION',\n",
              " 'PRESCRIPTION',\n",
              " 'MISCELLANEOUS',\n",
              " 'PRESCRIPTION',\n",
              " 'MISCELLANEOUS',\n",
              " 'PRESCRIPTION',\n",
              " 'MISCELLANEOUS',\n",
              " 'PRESCRIPTION',\n",
              " 'APPOINTMENTS',\n",
              " 'APPOINTMENTS',\n",
              " 'PRESCRIPTION',\n",
              " 'PRESCRIPTION',\n",
              " 'APPOINTMENTS',\n",
              " 'PRESCRIPTION',\n",
              " 'APPOINTMENTS',\n",
              " 'APPOINTMENTS',\n",
              " 'MISCELLANEOUS',\n",
              " 'APPOINTMENTS',\n",
              " 'PRESCRIPTION',\n",
              " 'LAB',\n",
              " 'PRESCRIPTION',\n",
              " 'PRESCRIPTION',\n",
              " 'PRESCRIPTION',\n",
              " 'APPOINTMENTS',\n",
              " 'PRESCRIPTION',\n",
              " 'PRESCRIPTION',\n",
              " 'PRESCRIPTION',\n",
              " 'PRESCRIPTION',\n",
              " 'APPOINTMENTS',\n",
              " 'ASK_A_DOCTOR',\n",
              " 'LAB',\n",
              " 'ASK_A_DOCTOR',\n",
              " 'MISCELLANEOUS',\n",
              " 'ASK_A_DOCTOR',\n",
              " 'PRESCRIPTION',\n",
              " 'PRESCRIPTION',\n",
              " 'PRESCRIPTION',\n",
              " 'PRESCRIPTION',\n",
              " 'APPOINTMENTS',\n",
              " 'MISCELLANEOUS',\n",
              " 'PRESCRIPTION',\n",
              " 'PRESCRIPTION',\n",
              " 'APPOINTMENTS',\n",
              " 'MISCELLANEOUS',\n",
              " 'PRESCRIPTION',\n",
              " 'PRESCRIPTION',\n",
              " 'PRESCRIPTION',\n",
              " 'ASK_A_DOCTOR',\n",
              " 'PRESCRIPTION',\n",
              " 'PRESCRIPTION',\n",
              " 'APPOINTMENTS',\n",
              " 'APPOINTMENTS',\n",
              " 'MISCELLANEOUS',\n",
              " 'LAB',\n",
              " 'APPOINTMENTS',\n",
              " 'APPOINTMENTS',\n",
              " 'MISCELLANEOUS',\n",
              " 'PRESCRIPTION',\n",
              " 'ASK_A_DOCTOR',\n",
              " 'PRESCRIPTION',\n",
              " 'PRESCRIPTION',\n",
              " 'PRESCRIPTION',\n",
              " 'APPOINTMENTS',\n",
              " 'PRESCRIPTION',\n",
              " 'LAB',\n",
              " 'PRESCRIPTION',\n",
              " 'PRESCRIPTION',\n",
              " 'APPOINTMENTS',\n",
              " 'PRESCRIPTION',\n",
              " 'PRESCRIPTION',\n",
              " 'MISCELLANEOUS',\n",
              " 'PRESCRIPTION',\n",
              " 'MISCELLANEOUS',\n",
              " 'MISCELLANEOUS',\n",
              " 'PRESCRIPTION',\n",
              " 'APPOINTMENTS',\n",
              " 'PRESCRIPTION',\n",
              " 'MISCELLANEOUS',\n",
              " 'APPOINTMENTS',\n",
              " 'MISCELLANEOUS',\n",
              " 'PRESCRIPTION',\n",
              " 'ASK_A_DOCTOR',\n",
              " 'PRESCRIPTION',\n",
              " 'APPOINTMENTS',\n",
              " 'PRESCRIPTION',\n",
              " 'MISCELLANEOUS',\n",
              " 'PRESCRIPTION',\n",
              " 'ASK_A_DOCTOR',\n",
              " 'MISCELLANEOUS',\n",
              " 'PRESCRIPTION',\n",
              " 'MISCELLANEOUS',\n",
              " 'MISCELLANEOUS',\n",
              " 'MISCELLANEOUS',\n",
              " 'APPOINTMENTS',\n",
              " 'MISCELLANEOUS',\n",
              " 'PRESCRIPTION',\n",
              " 'ASK_A_DOCTOR',\n",
              " 'PRESCRIPTION',\n",
              " 'PRESCRIPTION',\n",
              " 'PRESCRIPTION',\n",
              " 'ASK_A_DOCTOR',\n",
              " 'PRESCRIPTION',\n",
              " 'PRESCRIPTION',\n",
              " 'PRESCRIPTION',\n",
              " 'PRESCRIPTION',\n",
              " 'PRESCRIPTION',\n",
              " 'MISCELLANEOUS',\n",
              " 'ASK_A_DOCTOR',\n",
              " 'ASK_A_DOCTOR',\n",
              " 'PRESCRIPTION',\n",
              " 'APPOINTMENTS',\n",
              " 'PRESCRIPTION',\n",
              " 'APPOINTMENTS',\n",
              " 'PRESCRIPTION',\n",
              " 'PRESCRIPTION',\n",
              " 'MISCELLANEOUS',\n",
              " 'PRESCRIPTION',\n",
              " 'ASK_A_DOCTOR',\n",
              " 'PRESCRIPTION',\n",
              " 'PRESCRIPTION',\n",
              " 'APPOINTMENTS',\n",
              " 'LAB',\n",
              " 'PRESCRIPTION',\n",
              " 'MISCELLANEOUS',\n",
              " 'MISCELLANEOUS',\n",
              " 'PRESCRIPTION',\n",
              " 'APPOINTMENTS',\n",
              " 'PRESCRIPTION',\n",
              " 'MISCELLANEOUS',\n",
              " 'ASK_A_DOCTOR',\n",
              " 'PRESCRIPTION',\n",
              " 'PRESCRIPTION',\n",
              " 'MISCELLANEOUS',\n",
              " 'MISCELLANEOUS',\n",
              " 'PRESCRIPTION',\n",
              " 'PRESCRIPTION',\n",
              " 'MISCELLANEOUS',\n",
              " 'APPOINTMENTS',\n",
              " 'MISCELLANEOUS',\n",
              " 'APPOINTMENTS',\n",
              " 'APPOINTMENTS',\n",
              " 'MISCELLANEOUS',\n",
              " 'PRESCRIPTION',\n",
              " 'ASK_A_DOCTOR',\n",
              " 'MISCELLANEOUS',\n",
              " 'ASK_A_DOCTOR',\n",
              " 'APPOINTMENTS',\n",
              " 'MISCELLANEOUS',\n",
              " 'MISCELLANEOUS',\n",
              " 'APPOINTMENTS',\n",
              " 'APPOINTMENTS',\n",
              " 'PRESCRIPTION',\n",
              " 'PRESCRIPTION',\n",
              " 'ASK_A_DOCTOR',\n",
              " 'ASK_A_DOCTOR',\n",
              " 'PRESCRIPTION',\n",
              " 'PRESCRIPTION',\n",
              " 'PRESCRIPTION',\n",
              " 'ASK_A_DOCTOR',\n",
              " 'ASK_A_DOCTOR',\n",
              " 'APPOINTMENTS',\n",
              " 'ASK_A_DOCTOR',\n",
              " 'PRESCRIPTION',\n",
              " 'PRESCRIPTION',\n",
              " 'LAB',\n",
              " 'APPOINTMENTS',\n",
              " 'APPOINTMENTS',\n",
              " 'PRESCRIPTION',\n",
              " 'APPOINTMENTS',\n",
              " 'PRESCRIPTION',\n",
              " 'ASK_A_DOCTOR',\n",
              " 'LAB',\n",
              " 'LAB',\n",
              " 'LAB',\n",
              " 'PRESCRIPTION',\n",
              " 'APPOINTMENTS',\n",
              " 'PRESCRIPTION',\n",
              " 'ASK_A_DOCTOR',\n",
              " 'APPOINTMENTS',\n",
              " 'APPOINTMENTS',\n",
              " 'MISCELLANEOUS',\n",
              " 'MISCELLANEOUS',\n",
              " 'ASK_A_DOCTOR',\n",
              " 'PRESCRIPTION',\n",
              " 'PRESCRIPTION',\n",
              " 'ASK_A_DOCTOR',\n",
              " 'ASK_A_DOCTOR',\n",
              " 'ASK_A_DOCTOR',\n",
              " 'ASK_A_DOCTOR',\n",
              " 'APPOINTMENTS',\n",
              " 'PRESCRIPTION',\n",
              " 'ASK_A_DOCTOR',\n",
              " 'ASK_A_DOCTOR',\n",
              " 'ASK_A_DOCTOR',\n",
              " 'PRESCRIPTION',\n",
              " 'APPOINTMENTS',\n",
              " 'PRESCRIPTION',\n",
              " 'MISCELLANEOUS',\n",
              " 'APPOINTMENTS',\n",
              " 'ASK_A_DOCTOR',\n",
              " 'PRESCRIPTION',\n",
              " 'PRESCRIPTION',\n",
              " 'PRESCRIPTION',\n",
              " 'ASK_A_DOCTOR',\n",
              " 'PRESCRIPTION',\n",
              " 'APPOINTMENTS',\n",
              " 'APPOINTMENTS',\n",
              " 'PRESCRIPTION',\n",
              " 'PRESCRIPTION',\n",
              " 'ASK_A_DOCTOR',\n",
              " 'MISCELLANEOUS',\n",
              " 'MISCELLANEOUS',\n",
              " 'MISCELLANEOUS',\n",
              " 'PRESCRIPTION',\n",
              " 'ASK_A_DOCTOR',\n",
              " 'PRESCRIPTION',\n",
              " 'PRESCRIPTION',\n",
              " 'PRESCRIPTION',\n",
              " 'LAB',\n",
              " 'MISCELLANEOUS',\n",
              " 'MISCELLANEOUS',\n",
              " 'ASK_A_DOCTOR',\n",
              " 'PRESCRIPTION',\n",
              " 'MISCELLANEOUS',\n",
              " 'ASK_A_DOCTOR',\n",
              " 'PRESCRIPTION',\n",
              " 'APPOINTMENTS',\n",
              " 'LAB',\n",
              " 'MISCELLANEOUS',\n",
              " 'APPOINTMENTS',\n",
              " 'MISCELLANEOUS',\n",
              " 'MISCELLANEOUS',\n",
              " 'MISCELLANEOUS',\n",
              " 'APPOINTMENTS',\n",
              " 'PRESCRIPTION',\n",
              " 'PRESCRIPTION',\n",
              " 'MISCELLANEOUS',\n",
              " 'PRESCRIPTION',\n",
              " 'ASK_A_DOCTOR',\n",
              " 'PRESCRIPTION',\n",
              " 'ASK_A_DOCTOR',\n",
              " 'PRESCRIPTION',\n",
              " 'APPOINTMENTS',\n",
              " 'PRESCRIPTION',\n",
              " 'PRESCRIPTION',\n",
              " 'APPOINTMENTS',\n",
              " 'PRESCRIPTION',\n",
              " 'MISCELLANEOUS',\n",
              " 'PRESCRIPTION',\n",
              " 'PRESCRIPTION',\n",
              " 'LAB',\n",
              " 'PRESCRIPTION',\n",
              " 'PRESCRIPTION',\n",
              " 'ASK_A_DOCTOR',\n",
              " 'PRESCRIPTION',\n",
              " 'PRESCRIPTION',\n",
              " 'PRESCRIPTION',\n",
              " 'APPOINTMENTS',\n",
              " 'ASK_A_DOCTOR',\n",
              " 'APPOINTMENTS',\n",
              " 'PRESCRIPTION',\n",
              " 'APPOINTMENTS',\n",
              " 'PRESCRIPTION',\n",
              " 'APPOINTMENTS',\n",
              " 'APPOINTMENTS',\n",
              " 'MISCELLANEOUS',\n",
              " 'PRESCRIPTION',\n",
              " 'APPOINTMENTS',\n",
              " 'APPOINTMENTS',\n",
              " 'MISCELLANEOUS',\n",
              " 'ASK_A_DOCTOR',\n",
              " 'ASK_A_DOCTOR',\n",
              " 'LAB',\n",
              " 'PRESCRIPTION',\n",
              " 'PRESCRIPTION',\n",
              " 'PRESCRIPTION',\n",
              " 'LAB',\n",
              " 'ASK_A_DOCTOR',\n",
              " 'APPOINTMENTS',\n",
              " 'MISCELLANEOUS',\n",
              " 'ASK_A_DOCTOR',\n",
              " 'MISCELLANEOUS',\n",
              " 'LAB',\n",
              " 'APPOINTMENTS',\n",
              " 'ASK_A_DOCTOR',\n",
              " 'MISCELLANEOUS',\n",
              " 'MISCELLANEOUS',\n",
              " 'PRESCRIPTION',\n",
              " 'PRESCRIPTION',\n",
              " 'MISCELLANEOUS',\n",
              " 'PRESCRIPTION',\n",
              " 'PRESCRIPTION',\n",
              " 'ASK_A_DOCTOR',\n",
              " 'LAB',\n",
              " 'PRESCRIPTION',\n",
              " 'PRESCRIPTION',\n",
              " 'APPOINTMENTS',\n",
              " 'APPOINTMENTS',\n",
              " 'APPOINTMENTS',\n",
              " 'PRESCRIPTION',\n",
              " 'PRESCRIPTION',\n",
              " 'PRESCRIPTION',\n",
              " 'LAB',\n",
              " 'PRESCRIPTION',\n",
              " 'PRESCRIPTION',\n",
              " 'PRESCRIPTION',\n",
              " 'PRESCRIPTION',\n",
              " 'ASK_A_DOCTOR',\n",
              " 'APPOINTMENTS',\n",
              " 'PRESCRIPTION',\n",
              " 'PRESCRIPTION',\n",
              " 'PRESCRIPTION',\n",
              " 'MISCELLANEOUS',\n",
              " 'PRESCRIPTION',\n",
              " 'PRESCRIPTION',\n",
              " 'MISCELLANEOUS',\n",
              " 'PRESCRIPTION',\n",
              " 'PRESCRIPTION',\n",
              " 'PRESCRIPTION',\n",
              " 'PRESCRIPTION',\n",
              " 'MISCELLANEOUS',\n",
              " 'PRESCRIPTION',\n",
              " 'MISCELLANEOUS',\n",
              " 'PRESCRIPTION',\n",
              " 'PRESCRIPTION',\n",
              " 'PRESCRIPTION',\n",
              " 'PRESCRIPTION',\n",
              " 'MISCELLANEOUS',\n",
              " 'PRESCRIPTION',\n",
              " 'ASK_A_DOCTOR',\n",
              " 'LAB',\n",
              " 'MISCELLANEOUS',\n",
              " 'PRESCRIPTION',\n",
              " 'PRESCRIPTION',\n",
              " 'PRESCRIPTION',\n",
              " 'ASK_A_DOCTOR',\n",
              " 'PRESCRIPTION',\n",
              " 'PRESCRIPTION',\n",
              " 'PRESCRIPTION',\n",
              " 'PRESCRIPTION',\n",
              " 'MISCELLANEOUS',\n",
              " 'APPOINTMENTS',\n",
              " 'ASK_A_DOCTOR',\n",
              " 'ASK_A_DOCTOR',\n",
              " 'MISCELLANEOUS',\n",
              " 'MISCELLANEOUS',\n",
              " 'LAB',\n",
              " 'MISCELLANEOUS',\n",
              " 'PRESCRIPTION',\n",
              " 'PRESCRIPTION',\n",
              " 'APPOINTMENTS',\n",
              " 'ASK_A_DOCTOR',\n",
              " 'ASK_A_DOCTOR',\n",
              " 'PRESCRIPTION',\n",
              " 'APPOINTMENTS',\n",
              " 'APPOINTMENTS',\n",
              " 'MISCELLANEOUS',\n",
              " 'ASK_A_DOCTOR',\n",
              " 'ASK_A_DOCTOR',\n",
              " 'PRESCRIPTION',\n",
              " 'PRESCRIPTION',\n",
              " 'MISCELLANEOUS',\n",
              " 'PRESCRIPTION',\n",
              " 'MISCELLANEOUS',\n",
              " 'MISCELLANEOUS',\n",
              " 'MISCELLANEOUS',\n",
              " 'APPOINTMENTS',\n",
              " 'PRESCRIPTION',\n",
              " 'APPOINTMENTS',\n",
              " 'PRESCRIPTION',\n",
              " 'LAB',\n",
              " 'APPOINTMENTS',\n",
              " 'LAB',\n",
              " 'LAB',\n",
              " 'PRESCRIPTION',\n",
              " 'PRESCRIPTION',\n",
              " 'MISCELLANEOUS',\n",
              " 'PRESCRIPTION',\n",
              " 'LAB',\n",
              " 'APPOINTMENTS',\n",
              " 'APPOINTMENTS',\n",
              " 'ASK_A_DOCTOR',\n",
              " 'MISCELLANEOUS',\n",
              " 'ASK_A_DOCTOR',\n",
              " 'APPOINTMENTS',\n",
              " 'APPOINTMENTS',\n",
              " 'APPOINTMENTS',\n",
              " 'PRESCRIPTION',\n",
              " 'PRESCRIPTION',\n",
              " 'PRESCRIPTION',\n",
              " 'APPOINTMENTS',\n",
              " 'PRESCRIPTION',\n",
              " 'PRESCRIPTION',\n",
              " 'ASK_A_DOCTOR',\n",
              " 'PRESCRIPTION',\n",
              " 'APPOINTMENTS',\n",
              " 'PRESCRIPTION',\n",
              " 'PRESCRIPTION',\n",
              " 'PRESCRIPTION',\n",
              " 'PRESCRIPTION',\n",
              " 'PRESCRIPTION',\n",
              " 'ASK_A_DOCTOR',\n",
              " 'PRESCRIPTION',\n",
              " 'PRESCRIPTION',\n",
              " 'ASK_A_DOCTOR',\n",
              " 'PRESCRIPTION',\n",
              " 'PRESCRIPTION',\n",
              " 'PRESCRIPTION',\n",
              " 'PRESCRIPTION',\n",
              " 'MISCELLANEOUS',\n",
              " 'MISCELLANEOUS',\n",
              " 'MISCELLANEOUS',\n",
              " 'LAB',\n",
              " 'ASK_A_DOCTOR',\n",
              " 'MISCELLANEOUS',\n",
              " 'PRESCRIPTION',\n",
              " 'APPOINTMENTS',\n",
              " 'PRESCRIPTION',\n",
              " 'PRESCRIPTION',\n",
              " 'PRESCRIPTION',\n",
              " 'PRESCRIPTION',\n",
              " 'APPOINTMENTS',\n",
              " 'PRESCRIPTION',\n",
              " 'PRESCRIPTION',\n",
              " 'ASK_A_DOCTOR',\n",
              " 'APPOINTMENTS',\n",
              " 'LAB',\n",
              " 'APPOINTMENTS',\n",
              " 'MISCELLANEOUS',\n",
              " 'APPOINTMENTS',\n",
              " 'PRESCRIPTION',\n",
              " 'PRESCRIPTION',\n",
              " 'PRESCRIPTION',\n",
              " 'MISCELLANEOUS',\n",
              " 'ASK_A_DOCTOR',\n",
              " 'ASK_A_DOCTOR',\n",
              " 'ASK_A_DOCTOR',\n",
              " 'ASK_A_DOCTOR',\n",
              " 'LAB',\n",
              " 'APPOINTMENTS',\n",
              " 'PRESCRIPTION',\n",
              " 'PRESCRIPTION',\n",
              " 'PRESCRIPTION',\n",
              " 'PRESCRIPTION',\n",
              " 'APPOINTMENTS',\n",
              " 'MISCELLANEOUS',\n",
              " 'ASK_A_DOCTOR',\n",
              " 'MISCELLANEOUS',\n",
              " 'PRESCRIPTION',\n",
              " 'PRESCRIPTION',\n",
              " 'ASK_A_DOCTOR',\n",
              " 'MISCELLANEOUS',\n",
              " 'APPOINTMENTS',\n",
              " 'APPOINTMENTS',\n",
              " 'PRESCRIPTION',\n",
              " 'APPOINTMENTS',\n",
              " 'APPOINTMENTS',\n",
              " 'APPOINTMENTS',\n",
              " 'PRESCRIPTION',\n",
              " 'APPOINTMENTS',\n",
              " 'ASK_A_DOCTOR',\n",
              " 'APPOINTMENTS',\n",
              " 'PRESCRIPTION',\n",
              " 'MISCELLANEOUS',\n",
              " 'MISCELLANEOUS',\n",
              " 'LAB',\n",
              " 'PRESCRIPTION',\n",
              " 'MISCELLANEOUS',\n",
              " 'PRESCRIPTION',\n",
              " 'PRESCRIPTION',\n",
              " 'ASK_A_DOCTOR',\n",
              " 'MISCELLANEOUS',\n",
              " 'APPOINTMENTS',\n",
              " 'APPOINTMENTS',\n",
              " 'ASK_A_DOCTOR',\n",
              " 'PRESCRIPTION',\n",
              " 'MISCELLANEOUS',\n",
              " 'APPOINTMENTS',\n",
              " 'APPOINTMENTS',\n",
              " 'MISCELLANEOUS',\n",
              " 'PRESCRIPTION',\n",
              " 'PRESCRIPTION',\n",
              " 'PRESCRIPTION',\n",
              " 'APPOINTMENTS',\n",
              " 'PRESCRIPTION',\n",
              " 'APPOINTMENTS',\n",
              " 'PRESCRIPTION',\n",
              " 'PRESCRIPTION',\n",
              " 'PRESCRIPTION',\n",
              " 'APPOINTMENTS',\n",
              " 'PRESCRIPTION',\n",
              " 'APPOINTMENTS',\n",
              " 'APPOINTMENTS',\n",
              " 'ASK_A_DOCTOR',\n",
              " 'LAB',\n",
              " 'LAB',\n",
              " 'PRESCRIPTION',\n",
              " 'MISCELLANEOUS',\n",
              " 'APPOINTMENTS',\n",
              " 'ASK_A_DOCTOR',\n",
              " 'MISCELLANEOUS',\n",
              " 'PRESCRIPTION',\n",
              " 'MISCELLANEOUS',\n",
              " 'PRESCRIPTION',\n",
              " 'PRESCRIPTION',\n",
              " 'PRESCRIPTION',\n",
              " 'ASK_A_DOCTOR',\n",
              " 'PRESCRIPTION',\n",
              " 'PRESCRIPTION',\n",
              " 'PRESCRIPTION',\n",
              " 'APPOINTMENTS',\n",
              " 'PRESCRIPTION',\n",
              " 'APPOINTMENTS',\n",
              " 'ASK_A_DOCTOR',\n",
              " 'PRESCRIPTION',\n",
              " 'APPOINTMENTS',\n",
              " 'ASK_A_DOCTOR',\n",
              " 'PRESCRIPTION',\n",
              " 'MISCELLANEOUS',\n",
              " 'MISCELLANEOUS',\n",
              " 'APPOINTMENTS',\n",
              " 'MISCELLANEOUS',\n",
              " 'LAB',\n",
              " 'LAB',\n",
              " 'PRESCRIPTION',\n",
              " 'APPOINTMENTS',\n",
              " 'MISCELLANEOUS',\n",
              " 'MISCELLANEOUS',\n",
              " 'MISCELLANEOUS',\n",
              " 'APPOINTMENTS',\n",
              " 'MISCELLANEOUS',\n",
              " 'APPOINTMENTS',\n",
              " 'PRESCRIPTION',\n",
              " 'PRESCRIPTION',\n",
              " 'PRESCRIPTION',\n",
              " 'APPOINTMENTS',\n",
              " 'PRESCRIPTION',\n",
              " 'PRESCRIPTION',\n",
              " 'APPOINTMENTS',\n",
              " 'PRESCRIPTION',\n",
              " 'ASK_A_DOCTOR',\n",
              " 'PRESCRIPTION',\n",
              " 'ASK_A_DOCTOR',\n",
              " 'ASK_A_DOCTOR',\n",
              " 'ASK_A_DOCTOR',\n",
              " 'PRESCRIPTION',\n",
              " 'ASK_A_DOCTOR',\n",
              " 'ASK_A_DOCTOR',\n",
              " 'ASK_A_DOCTOR',\n",
              " 'MISCELLANEOUS',\n",
              " 'APPOINTMENTS',\n",
              " 'APPOINTMENTS',\n",
              " 'APPOINTMENTS',\n",
              " 'MISCELLANEOUS',\n",
              " 'APPOINTMENTS',\n",
              " 'APPOINTMENTS',\n",
              " 'MISCELLANEOUS',\n",
              " 'APPOINTMENTS',\n",
              " 'ASK_A_DOCTOR',\n",
              " 'APPOINTMENTS',\n",
              " 'PRESCRIPTION',\n",
              " 'MISCELLANEOUS',\n",
              " 'ASK_A_DOCTOR',\n",
              " 'PRESCRIPTION',\n",
              " 'APPOINTMENTS',\n",
              " 'ASK_A_DOCTOR',\n",
              " 'PRESCRIPTION',\n",
              " 'APPOINTMENTS',\n",
              " 'APPOINTMENTS',\n",
              " 'PRESCRIPTION',\n",
              " 'PRESCRIPTION',\n",
              " 'ASK_A_DOCTOR',\n",
              " 'APPOINTMENTS',\n",
              " 'APPOINTMENTS',\n",
              " 'PRESCRIPTION',\n",
              " 'PRESCRIPTION',\n",
              " 'PRESCRIPTION',\n",
              " 'PRESCRIPTION',\n",
              " 'MISCELLANEOUS',\n",
              " 'PRESCRIPTION',\n",
              " 'APPOINTMENTS',\n",
              " 'MISCELLANEOUS',\n",
              " 'LAB',\n",
              " 'MISCELLANEOUS',\n",
              " 'APPOINTMENTS',\n",
              " 'ASK_A_DOCTOR',\n",
              " 'APPOINTMENTS',\n",
              " 'APPOINTMENTS',\n",
              " 'PRESCRIPTION',\n",
              " 'APPOINTMENTS',\n",
              " 'PRESCRIPTION',\n",
              " 'ASK_A_DOCTOR',\n",
              " 'PRESCRIPTION',\n",
              " 'MISCELLANEOUS',\n",
              " 'APPOINTMENTS',\n",
              " 'ASK_A_DOCTOR',\n",
              " 'MISCELLANEOUS',\n",
              " 'PRESCRIPTION',\n",
              " 'PRESCRIPTION',\n",
              " 'APPOINTMENTS',\n",
              " 'PRESCRIPTION',\n",
              " 'MISCELLANEOUS',\n",
              " 'APPOINTMENTS',\n",
              " 'PRESCRIPTION',\n",
              " 'ASK_A_DOCTOR',\n",
              " 'ASK_A_DOCTOR',\n",
              " 'ASK_A_DOCTOR',\n",
              " 'PRESCRIPTION',\n",
              " 'PRESCRIPTION',\n",
              " 'ASK_A_DOCTOR',\n",
              " 'APPOINTMENTS',\n",
              " 'MISCELLANEOUS',\n",
              " 'APPOINTMENTS',\n",
              " 'APPOINTMENTS',\n",
              " 'ASK_A_DOCTOR',\n",
              " 'ASK_A_DOCTOR',\n",
              " 'ASK_A_DOCTOR',\n",
              " 'PRESCRIPTION',\n",
              " 'APPOINTMENTS',\n",
              " 'LAB',\n",
              " 'ASK_A_DOCTOR',\n",
              " 'ASK_A_DOCTOR',\n",
              " 'PRESCRIPTION',\n",
              " 'PRESCRIPTION',\n",
              " 'MISCELLANEOUS',\n",
              " 'APPOINTMENTS',\n",
              " 'PRESCRIPTION',\n",
              " 'ASK_A_DOCTOR',\n",
              " 'APPOINTMENTS',\n",
              " 'ASK_A_DOCTOR',\n",
              " 'PRESCRIPTION',\n",
              " 'APPOINTMENTS',\n",
              " 'LAB',\n",
              " 'APPOINTMENTS',\n",
              " 'ASK_A_DOCTOR',\n",
              " 'PRESCRIPTION',\n",
              " 'APPOINTMENTS',\n",
              " 'LAB',\n",
              " 'MISCELLANEOUS',\n",
              " 'PRESCRIPTION',\n",
              " 'ASK_A_DOCTOR',\n",
              " 'ASK_A_DOCTOR',\n",
              " 'PRESCRIPTION',\n",
              " 'PRESCRIPTION',\n",
              " 'PRESCRIPTION',\n",
              " 'PRESCRIPTION',\n",
              " 'PRESCRIPTION',\n",
              " 'APPOINTMENTS',\n",
              " 'APPOINTMENTS',\n",
              " 'PRESCRIPTION',\n",
              " 'MISCELLANEOUS',\n",
              " 'LAB',\n",
              " 'PRESCRIPTION',\n",
              " 'MISCELLANEOUS',\n",
              " 'MISCELLANEOUS',\n",
              " 'APPOINTMENTS',\n",
              " 'ASK_A_DOCTOR',\n",
              " 'MISCELLANEOUS',\n",
              " 'PRESCRIPTION',\n",
              " 'ASK_A_DOCTOR',\n",
              " 'PRESCRIPTION',\n",
              " 'ASK_A_DOCTOR',\n",
              " 'ASK_A_DOCTOR',\n",
              " 'MISCELLANEOUS',\n",
              " 'ASK_A_DOCTOR',\n",
              " 'PRESCRIPTION',\n",
              " 'MISCELLANEOUS',\n",
              " 'APPOINTMENTS',\n",
              " 'APPOINTMENTS',\n",
              " 'ASK_A_DOCTOR',\n",
              " 'PRESCRIPTION',\n",
              " 'APPOINTMENTS',\n",
              " 'PRESCRIPTION',\n",
              " 'ASK_A_DOCTOR',\n",
              " 'ASK_A_DOCTOR',\n",
              " 'LAB',\n",
              " 'MISCELLANEOUS',\n",
              " 'APPOINTMENTS',\n",
              " 'APPOINTMENTS',\n",
              " 'APPOINTMENTS',\n",
              " 'PRESCRIPTION',\n",
              " 'ASK_A_DOCTOR',\n",
              " 'APPOINTMENTS',\n",
              " ...]"
            ]
          },
          "metadata": {
            "tags": []
          },
          "execution_count": 54
        }
      ]
    },
    {
      "metadata": {
        "id": "Urq90i_5XYPH",
        "colab_type": "code",
        "colab": {}
      },
      "cell_type": "code",
      "source": [
        "test_id = df_test['ID']"
      ],
      "execution_count": 0,
      "outputs": []
    },
    {
      "metadata": {
        "id": "8k5pvhpNXtT_",
        "colab_type": "code",
        "colab": {}
      },
      "cell_type": "code",
      "source": [
        "submission = pd.DataFrame({'ID':test_id, 'categories':categories})"
      ],
      "execution_count": 0,
      "outputs": []
    },
    {
      "metadata": {
        "id": "9qPwVjuLYGLk",
        "colab_type": "code",
        "colab": {
          "base_uri": "https://localhost:8080/",
          "height": 204
        },
        "outputId": "7a4294fa-af14-4333-9b0a-61662392e979"
      },
      "cell_type": "code",
      "source": [
        "submission.head()"
      ],
      "execution_count": 58,
      "outputs": [
        {
          "output_type": "execute_result",
          "data": {
            "text/html": [
              "<div>\n",
              "<style scoped>\n",
              "    .dataframe tbody tr th:only-of-type {\n",
              "        vertical-align: middle;\n",
              "    }\n",
              "\n",
              "    .dataframe tbody tr th {\n",
              "        vertical-align: top;\n",
              "    }\n",
              "\n",
              "    .dataframe thead th {\n",
              "        text-align: right;\n",
              "    }\n",
              "</style>\n",
              "<table border=\"1\" class=\"dataframe\">\n",
              "  <thead>\n",
              "    <tr style=\"text-align: right;\">\n",
              "      <th></th>\n",
              "      <th>ID</th>\n",
              "      <th>categories</th>\n",
              "    </tr>\n",
              "  </thead>\n",
              "  <tbody>\n",
              "    <tr>\n",
              "      <th>0</th>\n",
              "      <td>1</td>\n",
              "      <td>PRESCRIPTION</td>\n",
              "    </tr>\n",
              "    <tr>\n",
              "      <th>1</th>\n",
              "      <td>4</td>\n",
              "      <td>ASK_A_DOCTOR</td>\n",
              "    </tr>\n",
              "    <tr>\n",
              "      <th>2</th>\n",
              "      <td>7</td>\n",
              "      <td>ASK_A_DOCTOR</td>\n",
              "    </tr>\n",
              "    <tr>\n",
              "      <th>3</th>\n",
              "      <td>13</td>\n",
              "      <td>ASK_A_DOCTOR</td>\n",
              "    </tr>\n",
              "    <tr>\n",
              "      <th>4</th>\n",
              "      <td>18</td>\n",
              "      <td>MISCELLANEOUS</td>\n",
              "    </tr>\n",
              "  </tbody>\n",
              "</table>\n",
              "</div>"
            ],
            "text/plain": [
              "   ID     categories\n",
              "0   1   PRESCRIPTION\n",
              "1   4   ASK_A_DOCTOR\n",
              "2   7   ASK_A_DOCTOR\n",
              "3  13   ASK_A_DOCTOR\n",
              "4  18  MISCELLANEOUS"
            ]
          },
          "metadata": {
            "tags": []
          },
          "execution_count": 58
        }
      ]
    },
    {
      "metadata": {
        "id": "OKNBCksZcbJ5",
        "colab_type": "code",
        "colab": {}
      },
      "cell_type": "code",
      "source": [
        "submission.to_csv('simple_cnn2.csv', index= False)"
      ],
      "execution_count": 0,
      "outputs": []
    },
    {
      "metadata": {
        "id": "qZ7MRnZrd-Yg",
        "colab_type": "code",
        "colab": {}
      },
      "cell_type": "code",
      "source": [
        "from google.colab import files\n",
        "files.download('simple_cnn2.csv')"
      ],
      "execution_count": 0,
      "outputs": []
    },
    {
      "metadata": {
        "id": "VfNkTDYbAKZp",
        "colab_type": "text"
      },
      "cell_type": "markdown",
      "source": [
        "**CNN model - opt :rmsprop**"
      ]
    },
    {
      "metadata": {
        "id": "huCcfGg-AKAb",
        "colab_type": "code",
        "colab": {
          "base_uri": "https://localhost:8080/",
          "height": 527
        },
        "outputId": "23359405-ffce-4dae-b237-441f0a395635"
      },
      "cell_type": "code",
      "source": [
        "from keras.layers import Flatten\n",
        "sequence_input = Input(shape=(MAX_SEQUENCE_LENGTH,), dtype='int32')\n",
        "embedded_sequences = embedding_layer(sequence_input)\n",
        "l_cov1= Conv1D(128, 5, activation='relu')(embedded_sequences)\n",
        "l_pool1 = MaxPooling1D(5)(l_cov1)\n",
        "l_cov2 = Conv1D(128, 5, activation='relu')(l_pool1)\n",
        "l_pool2 = MaxPooling1D(5)(l_cov2)\n",
        "l_cov3 = Conv1D(128, 5, activation='relu')(l_pool2)\n",
        "l_pool3 = MaxPooling1D(35)(l_cov3)  # global max pooling\n",
        "l_flat = Flatten()(l_pool3)\n",
        "l_dense = Dense(128, activation='relu')(l_flat)\n",
        "preds = Dense(len(labels_index), activation='softmax')(l_dense)\n",
        "\n",
        "model2 = Model(sequence_input, preds)\n",
        "model2.compile(loss='categorical_crossentropy',\n",
        "              optimizer='rmsprop',\n",
        "              metrics=['acc'])\n",
        "\n",
        "print(\"Simplified convolutional neural network\")\n",
        "model2.summary()\n",
        "cp=ModelCheckpoint('model_cnn2.hdf5',monitor='val_acc',verbose=1,save_best_only=True)"
      ],
      "execution_count": 0,
      "outputs": [
        {
          "output_type": "stream",
          "text": [
            "Simplified convolutional neural network\n",
            "_________________________________________________________________\n",
            "Layer (type)                 Output Shape              Param #   \n",
            "=================================================================\n",
            "input_8 (InputLayer)         (None, 1000)              0         \n",
            "_________________________________________________________________\n",
            "embedding_1 (Embedding)      (None, 1000, 100)         3477000   \n",
            "_________________________________________________________________\n",
            "conv1d_22 (Conv1D)           (None, 996, 128)          64128     \n",
            "_________________________________________________________________\n",
            "max_pooling1d_19 (MaxPooling (None, 199, 128)          0         \n",
            "_________________________________________________________________\n",
            "conv1d_23 (Conv1D)           (None, 195, 128)          82048     \n",
            "_________________________________________________________________\n",
            "max_pooling1d_20 (MaxPooling (None, 39, 128)           0         \n",
            "_________________________________________________________________\n",
            "conv1d_24 (Conv1D)           (None, 35, 128)           82048     \n",
            "_________________________________________________________________\n",
            "max_pooling1d_21 (MaxPooling (None, 1, 128)            0         \n",
            "_________________________________________________________________\n",
            "flatten_4 (Flatten)          (None, 128)               0         \n",
            "_________________________________________________________________\n",
            "dense_13 (Dense)             (None, 128)               16512     \n",
            "_________________________________________________________________\n",
            "dense_14 (Dense)             (None, 6)                 774       \n",
            "=================================================================\n",
            "Total params: 3,722,510\n",
            "Trainable params: 3,722,510\n",
            "Non-trainable params: 0\n",
            "_________________________________________________________________\n"
          ],
          "name": "stdout"
        }
      ]
    },
    {
      "metadata": {
        "id": "j6G-0qrh_Qp9",
        "colab_type": "code",
        "colab": {
          "base_uri": "https://localhost:8080/",
          "height": 3434
        },
        "outputId": "79960094-65f0-4e45-9f0f-ddbf52f547e1"
      },
      "cell_type": "code",
      "source": [
        "model2_hist = model1.fit(x_train, y_train,\n",
        "              batch_size=128,\n",
        "              epochs=nb_epochs,\n",
        "              validation_data=(x_val, y_val),callbacks=[cp])"
      ],
      "execution_count": 0,
      "outputs": [
        {
          "output_type": "stream",
          "text": [
            "Train on 36660 samples, validate on 9165 samples\n",
            "Epoch 1/50\n",
            "36660/36660 [==============================] - 26s 697us/step - loss: 0.0103 - acc: 0.9966 - val_loss: 2.2361 - val_acc: 0.7710\n",
            "\n",
            "Epoch 00001: val_acc improved from -inf to 0.77098, saving model to model_cnn2.hdf5\n",
            "Epoch 2/50\n",
            "36660/36660 [==============================] - 25s 687us/step - loss: 0.0110 - acc: 0.9962 - val_loss: 2.2645 - val_acc: 0.7718\n",
            "\n",
            "Epoch 00002: val_acc improved from 0.77098 to 0.77185, saving model to model_cnn2.hdf5\n",
            "Epoch 3/50\n",
            "36660/36660 [==============================] - 25s 684us/step - loss: 0.0138 - acc: 0.9955 - val_loss: 2.2160 - val_acc: 0.7710\n",
            "\n",
            "Epoch 00003: val_acc did not improve from 0.77185\n",
            "Epoch 4/50\n",
            "36660/36660 [==============================] - 25s 686us/step - loss: 0.0147 - acc: 0.9949 - val_loss: 2.0785 - val_acc: 0.7661\n",
            "\n",
            "Epoch 00004: val_acc did not improve from 0.77185\n",
            "Epoch 5/50\n",
            "36660/36660 [==============================] - 25s 686us/step - loss: 0.0128 - acc: 0.9956 - val_loss: 2.1160 - val_acc: 0.7747\n",
            "\n",
            "Epoch 00005: val_acc improved from 0.77185 to 0.77469, saving model to model_cnn2.hdf5\n",
            "Epoch 6/50\n",
            "36660/36660 [==============================] - 25s 687us/step - loss: 0.0072 - acc: 0.9977 - val_loss: 2.4130 - val_acc: 0.7592\n",
            "\n",
            "Epoch 00006: val_acc did not improve from 0.77469\n",
            "Epoch 7/50\n",
            "36660/36660 [==============================] - 25s 684us/step - loss: 0.0098 - acc: 0.9964 - val_loss: 2.3029 - val_acc: 0.7721\n",
            "\n",
            "Epoch 00007: val_acc did not improve from 0.77469\n",
            "Epoch 8/50\n",
            "36660/36660 [==============================] - 25s 681us/step - loss: 0.0086 - acc: 0.9972 - val_loss: 2.1910 - val_acc: 0.7775\n",
            "\n",
            "Epoch 00008: val_acc improved from 0.77469 to 0.77752, saving model to model_cnn2.hdf5\n",
            "Epoch 9/50\n",
            "36660/36660 [==============================] - 25s 677us/step - loss: 0.0083 - acc: 0.9973 - val_loss: 2.3640 - val_acc: 0.7596\n",
            "\n",
            "Epoch 00009: val_acc did not improve from 0.77752\n",
            "Epoch 10/50\n",
            "36660/36660 [==============================] - 25s 680us/step - loss: 0.0126 - acc: 0.9958 - val_loss: 2.1505 - val_acc: 0.7642\n",
            "\n",
            "Epoch 00010: val_acc did not improve from 0.77752\n",
            "Epoch 11/50\n",
            "36660/36660 [==============================] - 25s 673us/step - loss: 0.0103 - acc: 0.9966 - val_loss: 2.1660 - val_acc: 0.7732\n",
            "\n",
            "Epoch 00011: val_acc did not improve from 0.77752\n",
            "Epoch 12/50\n",
            "36660/36660 [==============================] - 25s 669us/step - loss: 0.0049 - acc: 0.9983 - val_loss: 2.3368 - val_acc: 0.7767\n",
            "\n",
            "Epoch 00012: val_acc did not improve from 0.77752\n",
            "Epoch 13/50\n",
            "36660/36660 [==============================] - 25s 669us/step - loss: 0.0047 - acc: 0.9982 - val_loss: 2.3881 - val_acc: 0.7723\n",
            "\n",
            "Epoch 00013: val_acc did not improve from 0.77752\n",
            "Epoch 14/50\n",
            "36660/36660 [==============================] - 24s 668us/step - loss: 0.0222 - acc: 0.9930 - val_loss: 1.9930 - val_acc: 0.7711\n",
            "\n",
            "Epoch 00014: val_acc did not improve from 0.77752\n",
            "Epoch 15/50\n",
            "36660/36660 [==============================] - 24s 668us/step - loss: 0.0081 - acc: 0.9971 - val_loss: 2.1948 - val_acc: 0.7727\n",
            "\n",
            "Epoch 00015: val_acc did not improve from 0.77752\n",
            "Epoch 16/50\n",
            "36660/36660 [==============================] - 24s 668us/step - loss: 0.0099 - acc: 0.9969 - val_loss: 2.2566 - val_acc: 0.7690\n",
            "\n",
            "Epoch 00016: val_acc did not improve from 0.77752\n",
            "Epoch 17/50\n",
            "36660/36660 [==============================] - 24s 668us/step - loss: 0.0066 - acc: 0.9978 - val_loss: 2.2219 - val_acc: 0.7723\n",
            "\n",
            "Epoch 00017: val_acc did not improve from 0.77752\n",
            "Epoch 18/50\n",
            "36660/36660 [==============================] - 25s 671us/step - loss: 0.0071 - acc: 0.9975 - val_loss: 2.2970 - val_acc: 0.7702\n",
            "\n",
            "Epoch 00018: val_acc did not improve from 0.77752\n",
            "Epoch 19/50\n",
            "36660/36660 [==============================] - 25s 672us/step - loss: 0.0091 - acc: 0.9972 - val_loss: 2.3571 - val_acc: 0.7744\n",
            "\n",
            "Epoch 00019: val_acc did not improve from 0.77752\n",
            "Epoch 20/50\n",
            "36660/36660 [==============================] - 25s 669us/step - loss: 0.0106 - acc: 0.9964 - val_loss: 2.2802 - val_acc: 0.7643\n",
            "\n",
            "Epoch 00020: val_acc did not improve from 0.77752\n",
            "Epoch 21/50\n",
            "36660/36660 [==============================] - 25s 670us/step - loss: 0.0191 - acc: 0.9941 - val_loss: 2.1832 - val_acc: 0.7741\n",
            "\n",
            "Epoch 00021: val_acc did not improve from 0.77752\n",
            "Epoch 22/50\n",
            "36660/36660 [==============================] - 25s 671us/step - loss: 0.0067 - acc: 0.9979 - val_loss: 2.2873 - val_acc: 0.7771\n",
            "\n",
            "Epoch 00022: val_acc did not improve from 0.77752\n",
            "Epoch 23/50\n",
            "36660/36660 [==============================] - 25s 670us/step - loss: 0.0052 - acc: 0.9980 - val_loss: 2.3303 - val_acc: 0.7740\n",
            "\n",
            "Epoch 00023: val_acc did not improve from 0.77752\n",
            "Epoch 24/50\n",
            "36660/36660 [==============================] - 25s 669us/step - loss: 0.0075 - acc: 0.9973 - val_loss: 2.2443 - val_acc: 0.7735\n",
            "\n",
            "Epoch 00024: val_acc did not improve from 0.77752\n",
            "Epoch 25/50\n",
            "36660/36660 [==============================] - 25s 674us/step - loss: 0.0065 - acc: 0.9978 - val_loss: 2.3300 - val_acc: 0.7721\n",
            "\n",
            "Epoch 00025: val_acc did not improve from 0.77752\n",
            "Epoch 26/50\n",
            "36660/36660 [==============================] - 25s 673us/step - loss: 0.0039 - acc: 0.9984 - val_loss: 2.3627 - val_acc: 0.7745\n",
            "\n",
            "Epoch 00026: val_acc did not improve from 0.77752\n",
            "Epoch 27/50\n",
            "36660/36660 [==============================] - 25s 672us/step - loss: 0.0139 - acc: 0.9958 - val_loss: 2.1807 - val_acc: 0.7673\n",
            "\n",
            "Epoch 00027: val_acc did not improve from 0.77752\n",
            "Epoch 28/50\n",
            "36660/36660 [==============================] - 25s 670us/step - loss: 0.0091 - acc: 0.9969 - val_loss: 2.3106 - val_acc: 0.7752\n",
            "\n",
            "Epoch 00028: val_acc did not improve from 0.77752\n",
            "Epoch 29/50\n",
            "36660/36660 [==============================] - 25s 669us/step - loss: 0.0121 - acc: 0.9962 - val_loss: 2.2363 - val_acc: 0.7723\n",
            "\n",
            "Epoch 00029: val_acc did not improve from 0.77752\n",
            "Epoch 30/50\n",
            "36660/36660 [==============================] - 25s 668us/step - loss: 0.0101 - acc: 0.9967 - val_loss: 2.3107 - val_acc: 0.7751\n",
            "\n",
            "Epoch 00030: val_acc did not improve from 0.77752\n",
            "Epoch 31/50\n",
            "36660/36660 [==============================] - 24s 667us/step - loss: 0.0068 - acc: 0.9975 - val_loss: 2.3560 - val_acc: 0.7714\n",
            "\n",
            "Epoch 00031: val_acc did not improve from 0.77752\n",
            "Epoch 32/50\n",
            "36660/36660 [==============================] - 25s 673us/step - loss: 0.0053 - acc: 0.9979 - val_loss: 2.4378 - val_acc: 0.7681\n",
            "\n",
            "Epoch 00032: val_acc did not improve from 0.77752\n",
            "Epoch 33/50\n",
            "36660/36660 [==============================] - 25s 680us/step - loss: 0.0055 - acc: 0.9982 - val_loss: 2.4112 - val_acc: 0.7732\n",
            "\n",
            "Epoch 00033: val_acc did not improve from 0.77752\n",
            "Epoch 34/50\n",
            "36660/36660 [==============================] - 25s 688us/step - loss: 0.0110 - acc: 0.9966 - val_loss: 2.1750 - val_acc: 0.7764\n",
            "\n",
            "Epoch 00034: val_acc did not improve from 0.77752\n",
            "Epoch 35/50\n",
            "36660/36660 [==============================] - 25s 686us/step - loss: 0.0123 - acc: 0.9963 - val_loss: 2.1557 - val_acc: 0.7676\n",
            "\n",
            "Epoch 00035: val_acc did not improve from 0.77752\n",
            "Epoch 36/50\n",
            "36660/36660 [==============================] - 25s 684us/step - loss: 0.0083 - acc: 0.9973 - val_loss: 2.2901 - val_acc: 0.7730\n",
            "\n",
            "Epoch 00036: val_acc did not improve from 0.77752\n",
            "Epoch 37/50\n",
            "36660/36660 [==============================] - 25s 685us/step - loss: 0.0044 - acc: 0.9985 - val_loss: 2.3380 - val_acc: 0.7756\n",
            "\n",
            "Epoch 00037: val_acc did not improve from 0.77752\n",
            "Epoch 38/50\n",
            "36660/36660 [==============================] - 25s 684us/step - loss: 0.0030 - acc: 0.9987 - val_loss: 2.4171 - val_acc: 0.7755\n",
            "\n",
            "Epoch 00038: val_acc did not improve from 0.77752\n",
            "Epoch 39/50\n",
            "36660/36660 [==============================] - 25s 684us/step - loss: 0.0030 - acc: 0.9987 - val_loss: 2.4296 - val_acc: 0.7746\n",
            "\n",
            "Epoch 00039: val_acc did not improve from 0.77752\n",
            "Epoch 40/50\n",
            "36660/36660 [==============================] - 25s 686us/step - loss: 0.0029 - acc: 0.9987 - val_loss: 2.5758 - val_acc: 0.7757\n",
            "\n",
            "Epoch 00040: val_acc did not improve from 0.77752\n",
            "Epoch 41/50\n",
            "36660/36660 [==============================] - 25s 692us/step - loss: 0.0104 - acc: 0.9969 - val_loss: 2.1524 - val_acc: 0.7638\n",
            "\n",
            "Epoch 00041: val_acc did not improve from 0.77752\n",
            "Epoch 42/50\n",
            "36660/36660 [==============================] - 25s 691us/step - loss: 0.0257 - acc: 0.9921 - val_loss: 2.0732 - val_acc: 0.7721\n",
            "\n",
            "Epoch 00042: val_acc did not improve from 0.77752\n",
            "Epoch 43/50\n",
            "36660/36660 [==============================] - 25s 688us/step - loss: 0.0113 - acc: 0.9964 - val_loss: 2.0552 - val_acc: 0.7667\n",
            "\n",
            "Epoch 00043: val_acc did not improve from 0.77752\n",
            "Epoch 44/50\n",
            "36660/36660 [==============================] - 25s 683us/step - loss: 0.0079 - acc: 0.9975 - val_loss: 2.1521 - val_acc: 0.7744\n",
            "\n",
            "Epoch 00044: val_acc did not improve from 0.77752\n",
            "Epoch 45/50\n",
            "36660/36660 [==============================] - 25s 685us/step - loss: 0.0037 - acc: 0.9986 - val_loss: 2.3127 - val_acc: 0.7762\n",
            "\n",
            "Epoch 00045: val_acc did not improve from 0.77752\n",
            "Epoch 46/50\n",
            "36660/36660 [==============================] - 25s 686us/step - loss: 0.0033 - acc: 0.9987 - val_loss: 2.3543 - val_acc: 0.7720\n",
            "\n",
            "Epoch 00046: val_acc did not improve from 0.77752\n",
            "Epoch 47/50\n",
            "36660/36660 [==============================] - 25s 678us/step - loss: 0.0029 - acc: 0.9988 - val_loss: 2.3849 - val_acc: 0.7753\n",
            "\n",
            "Epoch 00047: val_acc did not improve from 0.77752\n",
            "Epoch 48/50\n",
            "36660/36660 [==============================] - 25s 680us/step - loss: 0.0030 - acc: 0.9987 - val_loss: 2.4170 - val_acc: 0.7757\n",
            "\n",
            "Epoch 00048: val_acc did not improve from 0.77752\n",
            "Epoch 49/50\n",
            "36660/36660 [==============================] - 25s 680us/step - loss: 0.0031 - acc: 0.9987 - val_loss: 2.5192 - val_acc: 0.7685\n",
            "\n",
            "Epoch 00049: val_acc did not improve from 0.77752\n",
            "Epoch 50/50\n",
            "36660/36660 [==============================] - 25s 677us/step - loss: 0.0096 - acc: 0.9971 - val_loss: 2.5420 - val_acc: 0.7703\n",
            "\n",
            "Epoch 00050: val_acc did not improve from 0.77752\n"
          ],
          "name": "stdout"
        }
      ]
    },
    {
      "metadata": {
        "id": "JGsdIMynE9s8",
        "colab_type": "text"
      },
      "cell_type": "markdown",
      "source": [
        "**1D-CNN - Random Embeddings**"
      ]
    },
    {
      "metadata": {
        "id": "4mNvGoEyE_LQ",
        "colab_type": "code",
        "colab": {
          "base_uri": "https://localhost:8080/",
          "height": 459
        },
        "outputId": "272d1cc9-0935-49d4-ed50-a61d3e68a5b1"
      },
      "cell_type": "code",
      "source": [
        "# train a 1D convnet with global maxpooling\n",
        "print('Build model...')\n",
        "\n",
        "from keras.models import Sequential\n",
        "model3 = Sequential()\n",
        "model3.add(Embedding(num_words,\n",
        "                    EMBEDDING_DIM,\n",
        "                    input_length=MAX_SEQUENCE_LENGTH))\n",
        "model3.add(Conv1D(128, 5, activation='relu'))\n",
        "model3.add(MaxPooling1D(5))\n",
        "model3.add(Conv1D(128, 5, activation='relu'))\n",
        "model3.add(MaxPooling1D(5))\n",
        "model3.add(Conv1D(128, 5, activation='relu'))\n",
        "model3.add(GlobalMaxPooling1D())\n",
        "model3.add(Dense(128, activation='relu'))\n",
        "model3.add(Dense(len(labels_index), activation='softmax'))\n",
        "\n",
        "from keras.optimizers import Adam\n",
        "adam = Adam(lr=0.001)\n",
        "model3.compile(loss='categorical_crossentropy',\n",
        "              optimizer=adam,\n",
        "              metrics=['acc'])\n",
        "\n",
        "model3.summary()\n",
        "cp=ModelCheckpoint('model_cnn3.hdf5',monitor='val_acc',verbose=1,save_best_only=True)"
      ],
      "execution_count": 0,
      "outputs": [
        {
          "output_type": "stream",
          "text": [
            "Build model...\n",
            "_________________________________________________________________\n",
            "Layer (type)                 Output Shape              Param #   \n",
            "=================================================================\n",
            "embedding_4 (Embedding)      (None, 1000, 100)         3477000   \n",
            "_________________________________________________________________\n",
            "conv1d_7 (Conv1D)            (None, 996, 128)          64128     \n",
            "_________________________________________________________________\n",
            "max_pooling1d_5 (MaxPooling1 (None, 199, 128)          0         \n",
            "_________________________________________________________________\n",
            "conv1d_8 (Conv1D)            (None, 195, 128)          82048     \n",
            "_________________________________________________________________\n",
            "max_pooling1d_6 (MaxPooling1 (None, 39, 128)           0         \n",
            "_________________________________________________________________\n",
            "conv1d_9 (Conv1D)            (None, 35, 128)           82048     \n",
            "_________________________________________________________________\n",
            "global_max_pooling1d_3 (Glob (None, 128)               0         \n",
            "_________________________________________________________________\n",
            "dense_5 (Dense)              (None, 128)               16512     \n",
            "_________________________________________________________________\n",
            "dense_6 (Dense)              (None, 6)                 774       \n",
            "=================================================================\n",
            "Total params: 3,722,510\n",
            "Trainable params: 3,722,510\n",
            "Non-trainable params: 0\n",
            "_________________________________________________________________\n"
          ],
          "name": "stdout"
        }
      ]
    },
    {
      "metadata": {
        "id": "6zt9ogFVFZyi",
        "colab_type": "code",
        "colab": {
          "base_uri": "https://localhost:8080/",
          "height": 3434
        },
        "outputId": "041081bc-cf0c-40ae-c439-875629d0d102"
      },
      "cell_type": "code",
      "source": [
        "model3_hist =  model3.fit(x_train, y_train,\n",
        "              batch_size=128,\n",
        "              epochs=nb_epochs,\n",
        "              validation_data=(x_val, y_val), callbacks=[cp])"
      ],
      "execution_count": 0,
      "outputs": [
        {
          "output_type": "stream",
          "text": [
            "Train on 36660 samples, validate on 9165 samples\n",
            "Epoch 1/50\n",
            "36660/36660 [==============================] - 27s 746us/step - loss: 0.8401 - acc: 0.6806 - val_loss: 0.5751 - val_acc: 0.7956\n",
            "\n",
            "Epoch 00001: val_acc improved from -inf to 0.79564, saving model to model_cnn3.hdf5\n",
            "Epoch 2/50\n",
            "36660/36660 [==============================] - 25s 680us/step - loss: 0.4871 - acc: 0.8221 - val_loss: 0.5144 - val_acc: 0.8110\n",
            "\n",
            "Epoch 00002: val_acc improved from 0.79564 to 0.81102, saving model to model_cnn3.hdf5\n",
            "Epoch 3/50\n",
            "36660/36660 [==============================] - 25s 678us/step - loss: 0.3900 - acc: 0.8607 - val_loss: 0.5340 - val_acc: 0.8115\n",
            "\n",
            "Epoch 00003: val_acc improved from 0.81102 to 0.81146, saving model to model_cnn3.hdf5\n",
            "Epoch 4/50\n",
            "36660/36660 [==============================] - 25s 676us/step - loss: 0.3006 - acc: 0.8936 - val_loss: 0.5970 - val_acc: 0.7959\n",
            "\n",
            "Epoch 00004: val_acc did not improve from 0.81146\n",
            "Epoch 5/50\n",
            "36660/36660 [==============================] - 25s 673us/step - loss: 0.2170 - acc: 0.9243 - val_loss: 0.6920 - val_acc: 0.7919\n",
            "\n",
            "Epoch 00005: val_acc did not improve from 0.81146\n",
            "Epoch 6/50\n",
            "36660/36660 [==============================] - 25s 673us/step - loss: 0.1491 - acc: 0.9495 - val_loss: 0.8375 - val_acc: 0.7773\n",
            "\n",
            "Epoch 00006: val_acc did not improve from 0.81146\n",
            "Epoch 7/50\n",
            "36660/36660 [==============================] - 25s 672us/step - loss: 0.0951 - acc: 0.9673 - val_loss: 0.9726 - val_acc: 0.7741\n",
            "\n",
            "Epoch 00007: val_acc did not improve from 0.81146\n",
            "Epoch 8/50\n",
            "36660/36660 [==============================] - 25s 674us/step - loss: 0.0685 - acc: 0.9765 - val_loss: 1.1806 - val_acc: 0.7711\n",
            "\n",
            "Epoch 00008: val_acc did not improve from 0.81146\n",
            "Epoch 9/50\n",
            "36660/36660 [==============================] - 25s 676us/step - loss: 0.0527 - acc: 0.9817 - val_loss: 1.2812 - val_acc: 0.7697\n",
            "\n",
            "Epoch 00009: val_acc did not improve from 0.81146\n",
            "Epoch 10/50\n",
            "36660/36660 [==============================] - 25s 674us/step - loss: 0.0513 - acc: 0.9817 - val_loss: 1.2733 - val_acc: 0.7736\n",
            "\n",
            "Epoch 00010: val_acc did not improve from 0.81146\n",
            "Epoch 11/50\n",
            "36660/36660 [==============================] - 25s 671us/step - loss: 0.0410 - acc: 0.9860 - val_loss: 1.4572 - val_acc: 0.7727\n",
            "\n",
            "Epoch 00011: val_acc did not improve from 0.81146\n",
            "Epoch 12/50\n",
            "36660/36660 [==============================] - 25s 674us/step - loss: 0.0336 - acc: 0.9884 - val_loss: 1.6160 - val_acc: 0.7537\n",
            "\n",
            "Epoch 00012: val_acc did not improve from 0.81146\n",
            "Epoch 13/50\n",
            "36660/36660 [==============================] - 25s 675us/step - loss: 0.0360 - acc: 0.9874 - val_loss: 1.5350 - val_acc: 0.7653\n",
            "\n",
            "Epoch 00013: val_acc did not improve from 0.81146\n",
            "Epoch 14/50\n",
            "36660/36660 [==============================] - 25s 674us/step - loss: 0.0369 - acc: 0.9868 - val_loss: 1.5693 - val_acc: 0.7642\n",
            "\n",
            "Epoch 00014: val_acc did not improve from 0.81146\n",
            "Epoch 15/50\n",
            "36660/36660 [==============================] - 25s 675us/step - loss: 0.0240 - acc: 0.9917 - val_loss: 1.7147 - val_acc: 0.7694\n",
            "\n",
            "Epoch 00015: val_acc did not improve from 0.81146\n",
            "Epoch 16/50\n",
            "36660/36660 [==============================] - 25s 673us/step - loss: 0.0210 - acc: 0.9926 - val_loss: 1.8261 - val_acc: 0.7648\n",
            "\n",
            "Epoch 00016: val_acc did not improve from 0.81146\n",
            "Epoch 17/50\n",
            "36660/36660 [==============================] - 25s 674us/step - loss: 0.0226 - acc: 0.9920 - val_loss: 1.8851 - val_acc: 0.7526\n",
            "\n",
            "Epoch 00017: val_acc did not improve from 0.81146\n",
            "Epoch 18/50\n",
            "36660/36660 [==============================] - 25s 674us/step - loss: 0.0386 - acc: 0.9865 - val_loss: 1.6735 - val_acc: 0.7567\n",
            "\n",
            "Epoch 00018: val_acc did not improve from 0.81146\n",
            "Epoch 19/50\n",
            "36660/36660 [==============================] - 25s 674us/step - loss: 0.0187 - acc: 0.9930 - val_loss: 1.8838 - val_acc: 0.7612\n",
            "\n",
            "Epoch 00019: val_acc did not improve from 0.81146\n",
            "Epoch 20/50\n",
            "36660/36660 [==============================] - 25s 676us/step - loss: 0.0167 - acc: 0.9941 - val_loss: 1.9563 - val_acc: 0.7676\n",
            "\n",
            "Epoch 00020: val_acc did not improve from 0.81146\n",
            "Epoch 21/50\n",
            "36660/36660 [==============================] - 25s 675us/step - loss: 0.0161 - acc: 0.9943 - val_loss: 1.9312 - val_acc: 0.7662\n",
            "\n",
            "Epoch 00021: val_acc did not improve from 0.81146\n",
            "Epoch 22/50\n",
            "36660/36660 [==============================] - 25s 674us/step - loss: 0.0297 - acc: 0.9899 - val_loss: 1.7183 - val_acc: 0.7699\n",
            "\n",
            "Epoch 00022: val_acc did not improve from 0.81146\n",
            "Epoch 23/50\n",
            "36660/36660 [==============================] - 25s 671us/step - loss: 0.0191 - acc: 0.9935 - val_loss: 1.8415 - val_acc: 0.7627\n",
            "\n",
            "Epoch 00023: val_acc did not improve from 0.81146\n",
            "Epoch 24/50\n",
            "36660/36660 [==============================] - 25s 672us/step - loss: 0.0184 - acc: 0.9938 - val_loss: 1.8268 - val_acc: 0.7628\n",
            "\n",
            "Epoch 00024: val_acc did not improve from 0.81146\n",
            "Epoch 25/50\n",
            "36660/36660 [==============================] - 25s 676us/step - loss: 0.0156 - acc: 0.9942 - val_loss: 1.9463 - val_acc: 0.7640\n",
            "\n",
            "Epoch 00025: val_acc did not improve from 0.81146\n",
            "Epoch 26/50\n",
            "36660/36660 [==============================] - 25s 686us/step - loss: 0.0186 - acc: 0.9937 - val_loss: 2.0147 - val_acc: 0.7558\n",
            "\n",
            "Epoch 00026: val_acc did not improve from 0.81146\n",
            "Epoch 27/50\n",
            "36660/36660 [==============================] - 25s 682us/step - loss: 0.0209 - acc: 0.9930 - val_loss: 1.8811 - val_acc: 0.7610\n",
            "\n",
            "Epoch 00027: val_acc did not improve from 0.81146\n",
            "Epoch 28/50\n",
            "36660/36660 [==============================] - 25s 687us/step - loss: 0.0141 - acc: 0.9948 - val_loss: 1.9702 - val_acc: 0.7636\n",
            "\n",
            "Epoch 00028: val_acc did not improve from 0.81146\n",
            "Epoch 29/50\n",
            "36660/36660 [==============================] - 25s 688us/step - loss: 0.0124 - acc: 0.9956 - val_loss: 2.0686 - val_acc: 0.7606\n",
            "\n",
            "Epoch 00029: val_acc did not improve from 0.81146\n",
            "Epoch 30/50\n",
            "36660/36660 [==============================] - 25s 692us/step - loss: 0.0141 - acc: 0.9952 - val_loss: 2.0545 - val_acc: 0.7554\n",
            "\n",
            "Epoch 00030: val_acc did not improve from 0.81146\n",
            "Epoch 31/50\n",
            "36660/36660 [==============================] - 25s 692us/step - loss: 0.0120 - acc: 0.9959 - val_loss: 2.0670 - val_acc: 0.7636\n",
            "\n",
            "Epoch 00031: val_acc did not improve from 0.81146\n",
            "Epoch 32/50\n",
            "36660/36660 [==============================] - 25s 689us/step - loss: 0.0198 - acc: 0.9937 - val_loss: 1.9722 - val_acc: 0.7642\n",
            "\n",
            "Epoch 00032: val_acc did not improve from 0.81146\n",
            "Epoch 33/50\n",
            "36660/36660 [==============================] - 25s 690us/step - loss: 0.0217 - acc: 0.9925 - val_loss: 1.8098 - val_acc: 0.7573\n",
            "\n",
            "Epoch 00033: val_acc did not improve from 0.81146\n",
            "Epoch 34/50\n",
            "36660/36660 [==============================] - 25s 689us/step - loss: 0.0117 - acc: 0.9962 - val_loss: 1.9657 - val_acc: 0.7629\n",
            "\n",
            "Epoch 00034: val_acc did not improve from 0.81146\n",
            "Epoch 35/50\n",
            "36660/36660 [==============================] - 25s 688us/step - loss: 0.0105 - acc: 0.9962 - val_loss: 2.0954 - val_acc: 0.7657\n",
            "\n",
            "Epoch 00035: val_acc did not improve from 0.81146\n",
            "Epoch 36/50\n",
            "36660/36660 [==============================] - 25s 688us/step - loss: 0.0142 - acc: 0.9949 - val_loss: 1.9596 - val_acc: 0.7645\n",
            "\n",
            "Epoch 00036: val_acc did not improve from 0.81146\n",
            "Epoch 37/50\n",
            "36660/36660 [==============================] - 25s 689us/step - loss: 0.0146 - acc: 0.9947 - val_loss: 2.1452 - val_acc: 0.7643\n",
            "\n",
            "Epoch 00037: val_acc did not improve from 0.81146\n",
            "Epoch 38/50\n",
            "36660/36660 [==============================] - 25s 692us/step - loss: 0.0151 - acc: 0.9948 - val_loss: 2.0640 - val_acc: 0.7583\n",
            "\n",
            "Epoch 00038: val_acc did not improve from 0.81146\n",
            "Epoch 39/50\n",
            "36660/36660 [==============================] - 25s 685us/step - loss: 0.0218 - acc: 0.9939 - val_loss: 1.9553 - val_acc: 0.7605\n",
            "\n",
            "Epoch 00039: val_acc did not improve from 0.81146\n",
            "Epoch 40/50\n",
            "36660/36660 [==============================] - 25s 686us/step - loss: 0.0078 - acc: 0.9973 - val_loss: 2.1746 - val_acc: 0.7578\n",
            "\n",
            "Epoch 00040: val_acc did not improve from 0.81146\n",
            "Epoch 41/50\n",
            "36660/36660 [==============================] - 25s 691us/step - loss: 0.0098 - acc: 0.9966 - val_loss: 2.0037 - val_acc: 0.7651\n",
            "\n",
            "Epoch 00041: val_acc did not improve from 0.81146\n",
            "Epoch 42/50\n",
            "36660/36660 [==============================] - 25s 683us/step - loss: 0.0100 - acc: 0.9967 - val_loss: 2.0337 - val_acc: 0.7651\n",
            "\n",
            "Epoch 00042: val_acc did not improve from 0.81146\n",
            "Epoch 43/50\n",
            "36660/36660 [==============================] - 25s 680us/step - loss: 0.0058 - acc: 0.9979 - val_loss: 2.1663 - val_acc: 0.7693\n",
            "\n",
            "Epoch 00043: val_acc did not improve from 0.81146\n",
            "Epoch 44/50\n",
            "36660/36660 [==============================] - 25s 677us/step - loss: 0.0103 - acc: 0.9965 - val_loss: 2.0673 - val_acc: 0.7624\n",
            "\n",
            "Epoch 00044: val_acc did not improve from 0.81146\n",
            "Epoch 45/50\n",
            "36660/36660 [==============================] - 25s 674us/step - loss: 0.0182 - acc: 0.9941 - val_loss: 2.0191 - val_acc: 0.7620\n",
            "\n",
            "Epoch 00045: val_acc did not improve from 0.81146\n",
            "Epoch 46/50\n",
            "36660/36660 [==============================] - 25s 672us/step - loss: 0.0160 - acc: 0.9949 - val_loss: 1.9247 - val_acc: 0.7677\n",
            "\n",
            "Epoch 00046: val_acc did not improve from 0.81146\n",
            "Epoch 47/50\n",
            "36660/36660 [==============================] - 25s 674us/step - loss: 0.0074 - acc: 0.9974 - val_loss: 2.1481 - val_acc: 0.7629\n",
            "\n",
            "Epoch 00047: val_acc did not improve from 0.81146\n",
            "Epoch 48/50\n",
            "36660/36660 [==============================] - 25s 675us/step - loss: 0.0077 - acc: 0.9975 - val_loss: 2.1531 - val_acc: 0.7598\n",
            "\n",
            "Epoch 00048: val_acc did not improve from 0.81146\n",
            "Epoch 49/50\n",
            "36660/36660 [==============================] - 25s 672us/step - loss: 0.0137 - acc: 0.9953 - val_loss: 2.0571 - val_acc: 0.7605\n",
            "\n",
            "Epoch 00049: val_acc did not improve from 0.81146\n",
            "Epoch 50/50\n",
            "36660/36660 [==============================] - 25s 673us/step - loss: 0.0104 - acc: 0.9965 - val_loss: 2.0393 - val_acc: 0.7653\n",
            "\n",
            "Epoch 00050: val_acc did not improve from 0.81146\n"
          ],
          "name": "stdout"
        }
      ]
    },
    {
      "metadata": {
        "id": "KZkmzPCdOPhA",
        "colab_type": "code",
        "colab": {
          "base_uri": "https://localhost:8080/",
          "height": 302
        },
        "outputId": "23d1f20b-52eb-4a30-9a88-d13662a4af33"
      },
      "cell_type": "code",
      "source": [
        "import matplotlib.pyplot as plt\n",
        "%matplotlib inline\n",
        "\n",
        "fig3 = plt.figure()\n",
        "plt.plot(model3_hist.history['loss'],'r',linewidth=3.0)\n",
        "plt.plot(model3_hist.history['val_loss'],'b',linewidth=3.0)\n",
        "plt.legend(['Training loss', 'Validation Loss'],fontsize=18)\n",
        "plt.xlabel('Epochs ',fontsize=16)\n",
        "plt.ylabel('Loss',fontsize=16)\n",
        "plt.title('Loss Curves :CNN',fontsize=16)\n",
        "fig3.savefig('loss_cnn.png')\n",
        "plt.show()"
      ],
      "execution_count": 0,
      "outputs": [
        {
          "output_type": "display_data",
          "data": {
            "image/png": "[encoded data removed]",
            "text/plain": [
              "<matplotlib.figure.Figure at 0x7f19b9800dd8>"
            ]
          },
          "metadata": {
            "tags": []
          }
        }
      ]
    },
    {
      "metadata": {
        "id": "P_RbiU_hOxXN",
        "colab_type": "code",
        "colab": {
          "base_uri": "https://localhost:8080/",
          "height": 302
        },
        "outputId": "75747ef2-b6d1-4121-b2a1-31653d763945"
      },
      "cell_type": "code",
      "source": [
        "fig4=plt.figure()\n",
        "plt.plot(model3_hist.history['acc'],'r',linewidth=3.0)\n",
        "plt.plot(model3_hist.history['val_acc'],'b',linewidth=3.0)\n",
        "plt.legend(['Training Accuracy', 'Validation Accuracy'],fontsize=18)\n",
        "plt.xlabel('Epochs ',fontsize=16)\n",
        "plt.ylabel('Accuracy',fontsize=16)\n",
        "plt.title('Accuracy Curves : CNN',fontsize=16)\n",
        "fig4.savefig('accuracy_cnn.png')\n",
        "plt.show()"
      ],
      "execution_count": 0,
      "outputs": [
        {
          "output_type": "display_data",
          "data": {
            "image/png": "[encoded data removed]",
            "text/plain": [
              "<matplotlib.figure.Figure at 0x7f19502fa0f0>"
            ]
          },
          "metadata": {
            "tags": []
          }
        }
      ]
    },
    {
      "metadata": {
        "id": "sDoVjeKNPQqq",
        "colab_type": "text"
      },
      "cell_type": "markdown",
      "source": [
        "**LSTM - GLOVE Vectors**"
      ]
    },
    {
      "metadata": {
        "id": "caFx9F11PPVC",
        "colab_type": "code",
        "colab": {
          "base_uri": "https://localhost:8080/",
          "height": 340
        },
        "outputId": "37410c51-fc65-481c-d6aa-d2bd4c2c777b"
      },
      "cell_type": "code",
      "source": [
        "from keras.layers import LSTM, Dropout\n",
        "sequence_input = Input(shape=(MAX_SEQUENCE_LENGTH,), dtype='int32')\n",
        "embedded_sequences = embedding_layer(sequence_input)\n",
        "z = Dropout(0.2)(embedded_sequences)\n",
        "z = LSTM(128)(z)\n",
        "z = Dropout(0.4)(z)\n",
        "preds_lstm = Dense(6, activation='softmax')(z)\n",
        "\n",
        "\n",
        "from keras.optimizers import Adam\n",
        "adam = Adam(lr=0.001)\n",
        "model_lstm = Model(sequence_input, preds_lstm)\n",
        "model_lstm.compile(loss='categorical_crossentropy',\n",
        "              optimizer=adam,\n",
        "              metrics=['acc'])\n",
        "\n",
        "model_lstm.summary()\n",
        "cp=ModelCheckpoint('model_lstm.hdf5',monitor='val_acc',verbose=1,save_best_only=True)"
      ],
      "execution_count": 36,
      "outputs": [
        {
          "output_type": "stream",
          "text": [
            "_________________________________________________________________\n",
            "Layer (type)                 Output Shape              Param #   \n",
            "=================================================================\n",
            "input_3 (InputLayer)         (None, 1000)              0         \n",
            "_________________________________________________________________\n",
            "embedding_1 (Embedding)      (None, 1000, 100)         3477000   \n",
            "_________________________________________________________________\n",
            "dropout_3 (Dropout)          (None, 1000, 100)         0         \n",
            "_________________________________________________________________\n",
            "lstm_2 (LSTM)                (None, 128)               117248    \n",
            "_________________________________________________________________\n",
            "dropout_4 (Dropout)          (None, 128)               0         \n",
            "_________________________________________________________________\n",
            "dense_4 (Dense)              (None, 6)                 774       \n",
            "=================================================================\n",
            "Total params: 3,595,022\n",
            "Trainable params: 3,595,022\n",
            "Non-trainable params: 0\n",
            "_________________________________________________________________\n"
          ],
          "name": "stdout"
        }
      ]
    },
    {
      "metadata": {
        "id": "rUW8pVlSPiDc",
        "colab_type": "code",
        "colab": {
          "base_uri": "https://localhost:8080/",
          "height": 714
        },
        "outputId": "caea02a2-a5b5-49e9-c78f-b8c6b1ebb3f3"
      },
      "cell_type": "code",
      "source": [
        "model_lstm_hist = model_lstm.fit(x_train, y_train,\n",
        "                  batch_size=128,\n",
        "                  epochs=10,\n",
        "                  validation_data=(x_val, y_val), callbacks=[cp])"
      ],
      "execution_count": 38,
      "outputs": [
        {
          "output_type": "stream",
          "text": [
            "Train on 36660 samples, validate on 9165 samples\n",
            "Epoch 1/10\n",
            "36660/36660 [==============================] - 901s 25ms/step - loss: 1.0545 - acc: 0.6001 - val_loss: 0.8074 - val_acc: 0.7145\n",
            "\n",
            "Epoch 00001: val_acc improved from -inf to 0.71446, saving model to model_lstm.hdf5\n",
            "Epoch 2/10\n",
            "36660/36660 [==============================] - 928s 25ms/step - loss: 0.8300 - acc: 0.6976 - val_loss: 0.6655 - val_acc: 0.7645\n",
            "\n",
            "Epoch 00002: val_acc improved from 0.71446 to 0.76454, saving model to model_lstm.hdf5\n",
            "Epoch 3/10\n",
            "36660/36660 [==============================] - 939s 26ms/step - loss: 0.6246 - acc: 0.7784 - val_loss: 0.5859 - val_acc: 0.7919\n",
            "\n",
            "Epoch 00003: val_acc improved from 0.76454 to 0.79193, saving model to model_lstm.hdf5\n",
            "Epoch 4/10\n",
            "36660/36660 [==============================] - 946s 26ms/step - loss: 0.5549 - acc: 0.8007 - val_loss: 0.5489 - val_acc: 0.8038\n",
            "\n",
            "Epoch 00004: val_acc improved from 0.79193 to 0.80382, saving model to model_lstm.hdf5\n",
            "Epoch 5/10\n",
            "36660/36660 [==============================] - 946s 26ms/step - loss: 0.5051 - acc: 0.8173 - val_loss: 0.5367 - val_acc: 0.8087\n",
            "\n",
            "Epoch 00005: val_acc improved from 0.80382 to 0.80873, saving model to model_lstm.hdf5\n",
            "Epoch 6/10\n",
            "36660/36660 [==============================] - 950s 26ms/step - loss: 0.4726 - acc: 0.8279 - val_loss: 0.5162 - val_acc: 0.8125\n",
            "\n",
            "Epoch 00006: val_acc improved from 0.80873 to 0.81255, saving model to model_lstm.hdf5\n",
            "Epoch 7/10\n",
            "36660/36660 [==============================] - 947s 26ms/step - loss: 0.4399 - acc: 0.8414 - val_loss: 0.5165 - val_acc: 0.8158\n",
            "\n",
            "Epoch 00007: val_acc improved from 0.81255 to 0.81582, saving model to model_lstm.hdf5\n",
            "Epoch 8/10\n",
            "36660/36660 [==============================] - 943s 26ms/step - loss: 0.4119 - acc: 0.8497 - val_loss: 0.5408 - val_acc: 0.8099\n",
            "\n",
            "Epoch 00008: val_acc did not improve from 0.81582\n",
            "Epoch 9/10\n",
            "36660/36660 [==============================] - 935s 26ms/step - loss: 0.3848 - acc: 0.8595 - val_loss: 0.5410 - val_acc: 0.8110\n",
            "\n",
            "Epoch 00009: val_acc did not improve from 0.81582\n",
            "Epoch 10/10\n",
            "36660/36660 [==============================] - 953s 26ms/step - loss: 0.3589 - acc: 0.8707 - val_loss: 0.5453 - val_acc: 0.8076\n",
            "\n",
            "Epoch 00010: val_acc did not improve from 0.81582\n"
          ],
          "name": "stdout"
        }
      ]
    },
    {
      "metadata": {
        "id": "lfnbeW85yfuU",
        "colab_type": "code",
        "colab": {
          "base_uri": "https://localhost:8080/",
          "height": 302
        },
        "outputId": "2ae01687-6b3d-461d-f532-b4f3f3c8524b"
      },
      "cell_type": "code",
      "source": [
        "import matplotlib.pyplot as plt\n",
        "%matplotlib inline\n",
        "\n",
        "fig5 = plt.figure()\n",
        "plt.plot(model_lstm_hist.history['loss'],'r',linewidth=3.0)\n",
        "plt.plot(model_lstm_hist.history['val_loss'],'b',linewidth=3.0)\n",
        "plt.legend(['Training loss', 'Validation Loss'],fontsize=18)\n",
        "plt.xlabel('Epochs ',fontsize=16)\n",
        "plt.ylabel('Loss',fontsize=16)\n",
        "plt.title('Loss Curves :LSTM',fontsize=16)\n",
        "fig5.savefig('loss_lstm.png')\n",
        "plt.show()"
      ],
      "execution_count": 56,
      "outputs": [
        {
          "output_type": "display_data",
          "data": {
            "image/png": "[encoded data removed]",
            "text/plain": [
              "<matplotlib.figure.Figure at 0x7fa181e06a90>"
            ]
          },
          "metadata": {
            "tags": []
          }
        }
      ]
    },
    {
      "metadata": {
        "id": "GFI8a2dEx37_",
        "colab_type": "code",
        "colab": {
          "base_uri": "https://localhost:8080/",
          "height": 302
        },
        "outputId": "df5291bd-bd18-445c-deda-1f0f71651266"
      },
      "cell_type": "code",
      "source": [
        "fig6=plt.figure()\n",
        "plt.plot(model_lstm_hist.history['acc'],'r',linewidth=3.0)\n",
        "plt.plot(model_lstm_hist.history['val_acc'],'b',linewidth=3.0)\n",
        "plt.legend(['Training Accuracy', 'Validation Accuracy'],fontsize=18)\n",
        "plt.xlabel('Epochs ',fontsize=16)\n",
        "plt.ylabel('Accuracy',fontsize=16)\n",
        "plt.title('Accuracy Curves : LSTM',fontsize=16)\n",
        "fig6.savefig('accuracy_lstm.png')\n",
        "plt.show()"
      ],
      "execution_count": 57,
      "outputs": [
        {
          "output_type": "display_data",
          "data": {
            "image/png": "[encoded data removed]",
            "text/plain": [
              "<matplotlib.figure.Figure at 0x7fa179c07390>"
            ]
          },
          "metadata": {
            "tags": []
          }
        }
      ]
    },
    {
      "metadata": {
        "id": "Y5hILVKix-A5",
        "colab_type": "code",
        "colab": {}
      },
      "cell_type": "code",
      "source": [
        "predict_ls = model_lstm.predict(ts_data)"
      ],
      "execution_count": 0,
      "outputs": []
    },
    {
      "metadata": {
        "id": "qItlT-yPylwm",
        "colab_type": "code",
        "colab": {}
      },
      "cell_type": "code",
      "source": [
        "test_classes_ls = predict_ls.argmax(axis=-1)"
      ],
      "execution_count": 0,
      "outputs": []
    },
    {
      "metadata": {
        "id": "XN1eiMHey9na",
        "colab_type": "code",
        "colab": {}
      },
      "cell_type": "code",
      "source": [
        "p = []\n",
        "for x in range(0, test_classes_ls.size):\n",
        "  a = test_classes_ls[x]\n",
        "  p.append(labels_index[a])"
      ],
      "execution_count": 0,
      "outputs": []
    },
    {
      "metadata": {
        "id": "sU84pgaqzaKn",
        "colab_type": "code",
        "colab": {}
      },
      "cell_type": "code",
      "source": [
        "submission2 = pd.DataFrame({'ID':test_id, 'categories':p})"
      ],
      "execution_count": 0,
      "outputs": []
    },
    {
      "metadata": {
        "id": "R4bV323azd6f",
        "colab_type": "code",
        "colab": {}
      },
      "cell_type": "code",
      "source": [
        "submission2.to_csv('lstm.csv', index= False)"
      ],
      "execution_count": 0,
      "outputs": []
    },
    {
      "metadata": {
        "id": "E2oSY7pqzylo",
        "colab_type": "code",
        "colab": {}
      },
      "cell_type": "code",
      "source": [
        "from google.colab import files\n",
        "files.download('lstm.csv')"
      ],
      "execution_count": 0,
      "outputs": []
    },
    {
      "metadata": {
        "id": "cpRHKf1NIDTZ",
        "colab_type": "code",
        "colab": {
          "base_uri": "https://localhost:8080/",
          "height": 68
        },
        "outputId": "848cfe15-4935-477f-e349-72d8f1806176"
      },
      "cell_type": "code",
      "source": [
        "!ls"
      ],
      "execution_count": 58,
      "outputs": [
        {
          "output_type": "stream",
          "text": [
            "accuracy_cnn.png   loss_cnn.png   model_lstm.hdf5  train.csv   wget-log.2\n",
            "accuracy_lstm.png  loss_lstm.png  sample_data\t   wget-log\n",
            "glove.6B.100d.txt  lstm.csv\t  test.csv\t   wget-log.1\n"
          ],
          "name": "stdout"
        }
      ]
    },
    {
      "metadata": {
        "id": "1jkwEANbIUEM",
        "colab_type": "code",
        "colab": {}
      },
      "cell_type": "code",
      "source": [
        "from google.colab import files\n",
        "files.download('loss_lstm.png')"
      ],
      "execution_count": 0,
      "outputs": []
    }
  ]
}