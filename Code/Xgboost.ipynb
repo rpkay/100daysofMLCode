{
 "cells": [
  {
   "cell_type": "markdown",
   "metadata": {},
   "source": [
    "#### Import libraries"
   ]
  },
  {
   "cell_type": "code",
   "execution_count": 1,
   "metadata": {},
   "outputs": [],
   "source": [
    "import numpy as np\n",
    "import pandas as pd\n",
    "import matplotlib.pyplot as plt\n",
    "%matplotlib inline"
   ]
  },
  {
   "cell_type": "markdown",
   "metadata": {},
   "source": [
    "#### Read the data"
   ]
  },
  {
   "cell_type": "code",
   "execution_count": 2,
   "metadata": {},
   "outputs": [],
   "source": [
    "gamma_data = pd.read_csv(\"gamma_data.csv\")"
   ]
  },
  {
   "cell_type": "markdown",
   "metadata": {},
   "source": [
    "#### Print the head and tail of the data"
   ]
  },
  {
   "cell_type": "code",
   "execution_count": 3,
   "metadata": {},
   "outputs": [
    {
     "data": {
      "text/html": [
       "<div>\n",
       "<style scoped>\n",
       "    .dataframe tbody tr th:only-of-type {\n",
       "        vertical-align: middle;\n",
       "    }\n",
       "\n",
       "    .dataframe tbody tr th {\n",
       "        vertical-align: top;\n",
       "    }\n",
       "\n",
       "    .dataframe thead th {\n",
       "        text-align: right;\n",
       "    }\n",
       "</style>\n",
       "<table border=\"1\" class=\"dataframe\">\n",
       "  <thead>\n",
       "    <tr style=\"text-align: right;\">\n",
       "      <th></th>\n",
       "      <th>fLength</th>\n",
       "      <th>fWidth</th>\n",
       "      <th>fSize</th>\n",
       "      <th>fConc</th>\n",
       "      <th>fConc1</th>\n",
       "      <th>fAsym</th>\n",
       "      <th>fM3Long</th>\n",
       "      <th>fM3Trans</th>\n",
       "      <th>fAlpha</th>\n",
       "      <th>fDist</th>\n",
       "      <th>class</th>\n",
       "    </tr>\n",
       "  </thead>\n",
       "  <tbody>\n",
       "    <tr>\n",
       "      <th>0</th>\n",
       "      <td>48.2468</td>\n",
       "      <td>17.3565</td>\n",
       "      <td>3.0332</td>\n",
       "      <td>0.2529</td>\n",
       "      <td>0.1515</td>\n",
       "      <td>8.5730</td>\n",
       "      <td>38.0957</td>\n",
       "      <td>10.5868</td>\n",
       "      <td>4.7920</td>\n",
       "      <td>219.0870</td>\n",
       "      <td>1</td>\n",
       "    </tr>\n",
       "    <tr>\n",
       "      <th>1</th>\n",
       "      <td>18.8562</td>\n",
       "      <td>16.4600</td>\n",
       "      <td>2.4385</td>\n",
       "      <td>0.5282</td>\n",
       "      <td>0.2933</td>\n",
       "      <td>25.1269</td>\n",
       "      <td>-6.5401</td>\n",
       "      <td>-16.9327</td>\n",
       "      <td>11.4610</td>\n",
       "      <td>162.8480</td>\n",
       "      <td>1</td>\n",
       "    </tr>\n",
       "    <tr>\n",
       "      <th>2</th>\n",
       "      <td>60.4580</td>\n",
       "      <td>33.1061</td>\n",
       "      <td>3.1944</td>\n",
       "      <td>0.4679</td>\n",
       "      <td>0.2464</td>\n",
       "      <td>14.3000</td>\n",
       "      <td>-33.8765</td>\n",
       "      <td>28.8315</td>\n",
       "      <td>8.2920</td>\n",
       "      <td>372.5680</td>\n",
       "      <td>1</td>\n",
       "    </tr>\n",
       "    <tr>\n",
       "      <th>3</th>\n",
       "      <td>29.4741</td>\n",
       "      <td>22.4581</td>\n",
       "      <td>2.6258</td>\n",
       "      <td>0.3077</td>\n",
       "      <td>0.1740</td>\n",
       "      <td>18.1242</td>\n",
       "      <td>22.7035</td>\n",
       "      <td>13.1673</td>\n",
       "      <td>48.0364</td>\n",
       "      <td>214.1260</td>\n",
       "      <td>1</td>\n",
       "    </tr>\n",
       "    <tr>\n",
       "      <th>4</th>\n",
       "      <td>20.3836</td>\n",
       "      <td>9.0462</td>\n",
       "      <td>2.3365</td>\n",
       "      <td>0.6359</td>\n",
       "      <td>0.3894</td>\n",
       "      <td>22.2700</td>\n",
       "      <td>12.9487</td>\n",
       "      <td>-2.0403</td>\n",
       "      <td>43.0032</td>\n",
       "      <td>66.1667</td>\n",
       "      <td>1</td>\n",
       "    </tr>\n",
       "  </tbody>\n",
       "</table>\n",
       "</div>"
      ],
      "text/plain": [
       "   fLength   fWidth   fSize   fConc  fConc1    fAsym  fM3Long  fM3Trans  \\\n",
       "0  48.2468  17.3565  3.0332  0.2529  0.1515   8.5730  38.0957   10.5868   \n",
       "1  18.8562  16.4600  2.4385  0.5282  0.2933  25.1269  -6.5401  -16.9327   \n",
       "2  60.4580  33.1061  3.1944  0.4679  0.2464  14.3000 -33.8765   28.8315   \n",
       "3  29.4741  22.4581  2.6258  0.3077  0.1740  18.1242  22.7035   13.1673   \n",
       "4  20.3836   9.0462  2.3365  0.6359  0.3894  22.2700  12.9487   -2.0403   \n",
       "\n",
       "    fAlpha     fDist  class  \n",
       "0   4.7920  219.0870      1  \n",
       "1  11.4610  162.8480      1  \n",
       "2   8.2920  372.5680      1  \n",
       "3  48.0364  214.1260      1  \n",
       "4  43.0032   66.1667      1  "
      ]
     },
     "execution_count": 3,
     "metadata": {},
     "output_type": "execute_result"
    }
   ],
   "source": [
    "gamma_data.head()"
   ]
  },
  {
   "cell_type": "code",
   "execution_count": 4,
   "metadata": {},
   "outputs": [
    {
     "data": {
      "text/html": [
       "<div>\n",
       "<style scoped>\n",
       "    .dataframe tbody tr th:only-of-type {\n",
       "        vertical-align: middle;\n",
       "    }\n",
       "\n",
       "    .dataframe tbody tr th {\n",
       "        vertical-align: top;\n",
       "    }\n",
       "\n",
       "    .dataframe thead th {\n",
       "        text-align: right;\n",
       "    }\n",
       "</style>\n",
       "<table border=\"1\" class=\"dataframe\">\n",
       "  <thead>\n",
       "    <tr style=\"text-align: right;\">\n",
       "      <th></th>\n",
       "      <th>fLength</th>\n",
       "      <th>fWidth</th>\n",
       "      <th>fSize</th>\n",
       "      <th>fConc</th>\n",
       "      <th>fConc1</th>\n",
       "      <th>fAsym</th>\n",
       "      <th>fM3Long</th>\n",
       "      <th>fM3Trans</th>\n",
       "      <th>fAlpha</th>\n",
       "      <th>fDist</th>\n",
       "      <th>class</th>\n",
       "    </tr>\n",
       "  </thead>\n",
       "  <tbody>\n",
       "    <tr>\n",
       "      <th>3799</th>\n",
       "      <td>207.2530</td>\n",
       "      <td>75.8327</td>\n",
       "      <td>4.1476</td>\n",
       "      <td>0.0739</td>\n",
       "      <td>0.0371</td>\n",
       "      <td>-242.4960</td>\n",
       "      <td>-180.0290</td>\n",
       "      <td>-57.8600</td>\n",
       "      <td>74.5740</td>\n",
       "      <td>259.3160</td>\n",
       "      <td>0</td>\n",
       "    </tr>\n",
       "    <tr>\n",
       "      <th>3800</th>\n",
       "      <td>172.2442</td>\n",
       "      <td>20.1926</td>\n",
       "      <td>2.9009</td>\n",
       "      <td>0.2887</td>\n",
       "      <td>0.1940</td>\n",
       "      <td>124.5990</td>\n",
       "      <td>112.9452</td>\n",
       "      <td>-21.4436</td>\n",
       "      <td>28.9553</td>\n",
       "      <td>210.8496</td>\n",
       "      <td>0</td>\n",
       "    </tr>\n",
       "    <tr>\n",
       "      <th>3801</th>\n",
       "      <td>32.4902</td>\n",
       "      <td>10.6723</td>\n",
       "      <td>2.4742</td>\n",
       "      <td>0.4664</td>\n",
       "      <td>0.2735</td>\n",
       "      <td>-27.0097</td>\n",
       "      <td>-21.1687</td>\n",
       "      <td>8.4813</td>\n",
       "      <td>69.1730</td>\n",
       "      <td>120.6680</td>\n",
       "      <td>0</td>\n",
       "    </tr>\n",
       "    <tr>\n",
       "      <th>3802</th>\n",
       "      <td>43.2980</td>\n",
       "      <td>17.3545</td>\n",
       "      <td>2.8307</td>\n",
       "      <td>0.2877</td>\n",
       "      <td>0.1646</td>\n",
       "      <td>-60.1842</td>\n",
       "      <td>-33.8513</td>\n",
       "      <td>-3.6545</td>\n",
       "      <td>78.4099</td>\n",
       "      <td>224.8299</td>\n",
       "      <td>0</td>\n",
       "    </tr>\n",
       "    <tr>\n",
       "      <th>3803</th>\n",
       "      <td>21.3846</td>\n",
       "      <td>10.9170</td>\n",
       "      <td>2.6161</td>\n",
       "      <td>0.5857</td>\n",
       "      <td>0.3934</td>\n",
       "      <td>15.2618</td>\n",
       "      <td>11.5245</td>\n",
       "      <td>2.8766</td>\n",
       "      <td>2.4229</td>\n",
       "      <td>106.8258</td>\n",
       "      <td>0</td>\n",
       "    </tr>\n",
       "  </tbody>\n",
       "</table>\n",
       "</div>"
      ],
      "text/plain": [
       "       fLength   fWidth   fSize   fConc  fConc1     fAsym   fM3Long  fM3Trans  \\\n",
       "3799  207.2530  75.8327  4.1476  0.0739  0.0371 -242.4960 -180.0290  -57.8600   \n",
       "3800  172.2442  20.1926  2.9009  0.2887  0.1940  124.5990  112.9452  -21.4436   \n",
       "3801   32.4902  10.6723  2.4742  0.4664  0.2735  -27.0097  -21.1687    8.4813   \n",
       "3802   43.2980  17.3545  2.8307  0.2877  0.1646  -60.1842  -33.8513   -3.6545   \n",
       "3803   21.3846  10.9170  2.6161  0.5857  0.3934   15.2618   11.5245    2.8766   \n",
       "\n",
       "       fAlpha     fDist  class  \n",
       "3799  74.5740  259.3160      0  \n",
       "3800  28.9553  210.8496      0  \n",
       "3801  69.1730  120.6680      0  \n",
       "3802  78.4099  224.8299      0  \n",
       "3803   2.4229  106.8258      0  "
      ]
     },
     "execution_count": 4,
     "metadata": {},
     "output_type": "execute_result"
    }
   ],
   "source": [
    "gamma_data.tail()"
   ]
  },
  {
   "cell_type": "markdown",
   "metadata": {},
   "source": [
    "#### Check the structure and summary of the data"
   ]
  },
  {
   "cell_type": "code",
   "execution_count": 5,
   "metadata": {},
   "outputs": [
    {
     "name": "stdout",
     "output_type": "stream",
     "text": [
      "<class 'pandas.core.frame.DataFrame'>\n",
      "RangeIndex: 3804 entries, 0 to 3803\n",
      "Data columns (total 11 columns):\n",
      "fLength     3804 non-null float64\n",
      "fWidth      3804 non-null float64\n",
      "fSize       3804 non-null float64\n",
      "fConc       3804 non-null float64\n",
      "fConc1      3804 non-null float64\n",
      "fAsym       3804 non-null float64\n",
      "fM3Long     3804 non-null float64\n",
      "fM3Trans    3804 non-null float64\n",
      "fAlpha      3804 non-null float64\n",
      "fDist       3804 non-null float64\n",
      "class       3804 non-null int64\n",
      "dtypes: float64(10), int64(1)\n",
      "memory usage: 327.0 KB\n"
     ]
    }
   ],
   "source": [
    "gamma_data.info()"
   ]
  },
  {
   "cell_type": "code",
   "execution_count": 6,
   "metadata": {},
   "outputs": [
    {
     "data": {
      "text/html": [
       "<div>\n",
       "<style scoped>\n",
       "    .dataframe tbody tr th:only-of-type {\n",
       "        vertical-align: middle;\n",
       "    }\n",
       "\n",
       "    .dataframe tbody tr th {\n",
       "        vertical-align: top;\n",
       "    }\n",
       "\n",
       "    .dataframe thead th {\n",
       "        text-align: right;\n",
       "    }\n",
       "</style>\n",
       "<table border=\"1\" class=\"dataframe\">\n",
       "  <thead>\n",
       "    <tr style=\"text-align: right;\">\n",
       "      <th></th>\n",
       "      <th>fLength</th>\n",
       "      <th>fWidth</th>\n",
       "      <th>fSize</th>\n",
       "      <th>fConc</th>\n",
       "      <th>fConc1</th>\n",
       "      <th>fAsym</th>\n",
       "      <th>fM3Long</th>\n",
       "      <th>fM3Trans</th>\n",
       "      <th>fAlpha</th>\n",
       "      <th>fDist</th>\n",
       "      <th>class</th>\n",
       "    </tr>\n",
       "  </thead>\n",
       "  <tbody>\n",
       "    <tr>\n",
       "      <th>count</th>\n",
       "      <td>3804.000000</td>\n",
       "      <td>3804.000000</td>\n",
       "      <td>3804.000000</td>\n",
       "      <td>3804.000000</td>\n",
       "      <td>3804.000000</td>\n",
       "      <td>3804.000000</td>\n",
       "      <td>3804.000000</td>\n",
       "      <td>3804.000000</td>\n",
       "      <td>3804.000000</td>\n",
       "      <td>3804.000000</td>\n",
       "      <td>3804.000000</td>\n",
       "    </tr>\n",
       "    <tr>\n",
       "      <th>mean</th>\n",
       "      <td>52.663971</td>\n",
       "      <td>21.833206</td>\n",
       "      <td>2.813422</td>\n",
       "      <td>0.385432</td>\n",
       "      <td>0.217479</td>\n",
       "      <td>-3.277642</td>\n",
       "      <td>10.605906</td>\n",
       "      <td>0.063088</td>\n",
       "      <td>27.402042</td>\n",
       "      <td>192.189697</td>\n",
       "      <td>0.655363</td>\n",
       "    </tr>\n",
       "    <tr>\n",
       "      <th>std</th>\n",
       "      <td>42.555049</td>\n",
       "      <td>18.349049</td>\n",
       "      <td>0.463300</td>\n",
       "      <td>0.183156</td>\n",
       "      <td>0.110928</td>\n",
       "      <td>59.137413</td>\n",
       "      <td>50.563684</td>\n",
       "      <td>20.938464</td>\n",
       "      <td>25.940801</td>\n",
       "      <td>74.765355</td>\n",
       "      <td>0.475312</td>\n",
       "    </tr>\n",
       "    <tr>\n",
       "      <th>min</th>\n",
       "      <td>8.051800</td>\n",
       "      <td>0.000000</td>\n",
       "      <td>1.997800</td>\n",
       "      <td>0.013900</td>\n",
       "      <td>0.000800</td>\n",
       "      <td>-457.916100</td>\n",
       "      <td>-331.780000</td>\n",
       "      <td>-149.551300</td>\n",
       "      <td>0.000000</td>\n",
       "      <td>1.282600</td>\n",
       "      <td>0.000000</td>\n",
       "    </tr>\n",
       "    <tr>\n",
       "      <th>25%</th>\n",
       "      <td>24.278900</td>\n",
       "      <td>11.741775</td>\n",
       "      <td>2.477800</td>\n",
       "      <td>0.242575</td>\n",
       "      <td>0.131500</td>\n",
       "      <td>-19.214800</td>\n",
       "      <td>-11.550400</td>\n",
       "      <td>-10.860925</td>\n",
       "      <td>5.654650</td>\n",
       "      <td>140.289000</td>\n",
       "      <td>0.000000</td>\n",
       "    </tr>\n",
       "    <tr>\n",
       "      <th>50%</th>\n",
       "      <td>36.639650</td>\n",
       "      <td>16.848750</td>\n",
       "      <td>2.730550</td>\n",
       "      <td>0.360950</td>\n",
       "      <td>0.199450</td>\n",
       "      <td>4.528200</td>\n",
       "      <td>15.454950</td>\n",
       "      <td>0.000000</td>\n",
       "      <td>17.664600</td>\n",
       "      <td>191.561000</td>\n",
       "      <td>1.000000</td>\n",
       "    </tr>\n",
       "    <tr>\n",
       "      <th>75%</th>\n",
       "      <td>67.654600</td>\n",
       "      <td>24.183450</td>\n",
       "      <td>3.087375</td>\n",
       "      <td>0.506725</td>\n",
       "      <td>0.289500</td>\n",
       "      <td>24.610425</td>\n",
       "      <td>35.441950</td>\n",
       "      <td>10.708000</td>\n",
       "      <td>45.188625</td>\n",
       "      <td>237.785375</td>\n",
       "      <td>1.000000</td>\n",
       "    </tr>\n",
       "    <tr>\n",
       "      <th>max</th>\n",
       "      <td>305.422000</td>\n",
       "      <td>201.364000</td>\n",
       "      <td>4.994600</td>\n",
       "      <td>0.875700</td>\n",
       "      <td>0.628300</td>\n",
       "      <td>473.065400</td>\n",
       "      <td>203.863000</td>\n",
       "      <td>139.236100</td>\n",
       "      <td>90.000000</td>\n",
       "      <td>466.407800</td>\n",
       "      <td>1.000000</td>\n",
       "    </tr>\n",
       "  </tbody>\n",
       "</table>\n",
       "</div>"
      ],
      "text/plain": [
       "           fLength       fWidth        fSize        fConc       fConc1  \\\n",
       "count  3804.000000  3804.000000  3804.000000  3804.000000  3804.000000   \n",
       "mean     52.663971    21.833206     2.813422     0.385432     0.217479   \n",
       "std      42.555049    18.349049     0.463300     0.183156     0.110928   \n",
       "min       8.051800     0.000000     1.997800     0.013900     0.000800   \n",
       "25%      24.278900    11.741775     2.477800     0.242575     0.131500   \n",
       "50%      36.639650    16.848750     2.730550     0.360950     0.199450   \n",
       "75%      67.654600    24.183450     3.087375     0.506725     0.289500   \n",
       "max     305.422000   201.364000     4.994600     0.875700     0.628300   \n",
       "\n",
       "             fAsym      fM3Long     fM3Trans       fAlpha        fDist  \\\n",
       "count  3804.000000  3804.000000  3804.000000  3804.000000  3804.000000   \n",
       "mean     -3.277642    10.605906     0.063088    27.402042   192.189697   \n",
       "std      59.137413    50.563684    20.938464    25.940801    74.765355   \n",
       "min    -457.916100  -331.780000  -149.551300     0.000000     1.282600   \n",
       "25%     -19.214800   -11.550400   -10.860925     5.654650   140.289000   \n",
       "50%       4.528200    15.454950     0.000000    17.664600   191.561000   \n",
       "75%      24.610425    35.441950    10.708000    45.188625   237.785375   \n",
       "max     473.065400   203.863000   139.236100    90.000000   466.407800   \n",
       "\n",
       "             class  \n",
       "count  3804.000000  \n",
       "mean      0.655363  \n",
       "std       0.475312  \n",
       "min       0.000000  \n",
       "25%       0.000000  \n",
       "50%       1.000000  \n",
       "75%       1.000000  \n",
       "max       1.000000  "
      ]
     },
     "execution_count": 6,
     "metadata": {},
     "output_type": "execute_result"
    }
   ],
   "source": [
    "gamma_data.describe()"
   ]
  },
  {
   "cell_type": "markdown",
   "metadata": {},
   "source": [
    "#### Splitting the data"
   ]
  },
  {
   "cell_type": "code",
   "execution_count": 12,
   "metadata": {},
   "outputs": [],
   "source": [
    "X, y = gamma_data.iloc[:,:-1],gamma_data.iloc[:,-1]"
   ]
  },
  {
   "cell_type": "code",
   "execution_count": 13,
   "metadata": {},
   "outputs": [],
   "source": [
    "from sklearn.model_selection import train_test_split"
   ]
  },
  {
   "cell_type": "code",
   "execution_count": 14,
   "metadata": {},
   "outputs": [],
   "source": [
    "X_train, X_test, y_train, y_test = train_test_split(X, y, test_size=0.3, random_state=101)"
   ]
  },
  {
   "cell_type": "code",
   "execution_count": 24,
   "metadata": {},
   "outputs": [],
   "source": [
    "names = X_train.columns"
   ]
  },
  {
   "cell_type": "markdown",
   "metadata": {},
   "source": [
    "#### Standardize the train and test data"
   ]
  },
  {
   "cell_type": "code",
   "execution_count": 19,
   "metadata": {},
   "outputs": [],
   "source": [
    "from sklearn.preprocessing import StandardScaler"
   ]
  },
  {
   "cell_type": "code",
   "execution_count": 20,
   "metadata": {},
   "outputs": [],
   "source": [
    "scaler = StandardScaler()"
   ]
  },
  {
   "cell_type": "code",
   "execution_count": 21,
   "metadata": {},
   "outputs": [],
   "source": [
    "X_train_sc = scaler.fit_transform(X_train)\n",
    "X_test_sc = scaler.fit_transform(X_test)"
   ]
  },
  {
   "cell_type": "code",
   "execution_count": 25,
   "metadata": {},
   "outputs": [],
   "source": [
    "X_train = pd.DataFrame(X_train_sc, columns=names)\n",
    "X_test = pd.DataFrame(X_test_sc, columns=names)"
   ]
  },
  {
   "cell_type": "code",
   "execution_count": 26,
   "metadata": {},
   "outputs": [
    {
     "data": {
      "text/html": [
       "<div>\n",
       "<style scoped>\n",
       "    .dataframe tbody tr th:only-of-type {\n",
       "        vertical-align: middle;\n",
       "    }\n",
       "\n",
       "    .dataframe tbody tr th {\n",
       "        vertical-align: top;\n",
       "    }\n",
       "\n",
       "    .dataframe thead th {\n",
       "        text-align: right;\n",
       "    }\n",
       "</style>\n",
       "<table border=\"1\" class=\"dataframe\">\n",
       "  <thead>\n",
       "    <tr style=\"text-align: right;\">\n",
       "      <th></th>\n",
       "      <th>fLength</th>\n",
       "      <th>fWidth</th>\n",
       "      <th>fSize</th>\n",
       "      <th>fConc</th>\n",
       "      <th>fConc1</th>\n",
       "      <th>fAsym</th>\n",
       "      <th>fM3Long</th>\n",
       "      <th>fM3Trans</th>\n",
       "      <th>fAlpha</th>\n",
       "      <th>fDist</th>\n",
       "    </tr>\n",
       "  </thead>\n",
       "  <tbody>\n",
       "    <tr>\n",
       "      <th>0</th>\n",
       "      <td>0.092757</td>\n",
       "      <td>0.315865</td>\n",
       "      <td>1.007723</td>\n",
       "      <td>-1.283362</td>\n",
       "      <td>-1.270526</td>\n",
       "      <td>0.311122</td>\n",
       "      <td>0.523511</td>\n",
       "      <td>-0.364927</td>\n",
       "      <td>-0.691144</td>\n",
       "      <td>0.370005</td>\n",
       "    </tr>\n",
       "    <tr>\n",
       "      <th>1</th>\n",
       "      <td>-0.707474</td>\n",
       "      <td>-0.458052</td>\n",
       "      <td>-0.677818</td>\n",
       "      <td>1.069076</td>\n",
       "      <td>1.221253</td>\n",
       "      <td>0.361636</td>\n",
       "      <td>0.177898</td>\n",
       "      <td>0.401110</td>\n",
       "      <td>1.083127</td>\n",
       "      <td>-1.181395</td>\n",
       "    </tr>\n",
       "    <tr>\n",
       "      <th>2</th>\n",
       "      <td>-0.368228</td>\n",
       "      <td>0.221138</td>\n",
       "      <td>0.663996</td>\n",
       "      <td>-0.952908</td>\n",
       "      <td>-0.871375</td>\n",
       "      <td>0.288075</td>\n",
       "      <td>0.191600</td>\n",
       "      <td>0.697049</td>\n",
       "      <td>0.224561</td>\n",
       "      <td>-0.653728</td>\n",
       "    </tr>\n",
       "    <tr>\n",
       "      <th>3</th>\n",
       "      <td>-0.486901</td>\n",
       "      <td>-0.394596</td>\n",
       "      <td>-0.633838</td>\n",
       "      <td>-0.005716</td>\n",
       "      <td>-0.173533</td>\n",
       "      <td>-0.579716</td>\n",
       "      <td>0.099022</td>\n",
       "      <td>-0.357433</td>\n",
       "      <td>-0.336787</td>\n",
       "      <td>0.627393</td>\n",
       "    </tr>\n",
       "    <tr>\n",
       "      <th>4</th>\n",
       "      <td>0.747383</td>\n",
       "      <td>0.410110</td>\n",
       "      <td>0.518179</td>\n",
       "      <td>-0.638268</td>\n",
       "      <td>-0.808587</td>\n",
       "      <td>0.281185</td>\n",
       "      <td>1.342921</td>\n",
       "      <td>0.716200</td>\n",
       "      <td>0.102013</td>\n",
       "      <td>0.179761</td>\n",
       "    </tr>\n",
       "  </tbody>\n",
       "</table>\n",
       "</div>"
      ],
      "text/plain": [
       "    fLength    fWidth     fSize     fConc    fConc1     fAsym   fM3Long  \\\n",
       "0  0.092757  0.315865  1.007723 -1.283362 -1.270526  0.311122  0.523511   \n",
       "1 -0.707474 -0.458052 -0.677818  1.069076  1.221253  0.361636  0.177898   \n",
       "2 -0.368228  0.221138  0.663996 -0.952908 -0.871375  0.288075  0.191600   \n",
       "3 -0.486901 -0.394596 -0.633838 -0.005716 -0.173533 -0.579716  0.099022   \n",
       "4  0.747383  0.410110  0.518179 -0.638268 -0.808587  0.281185  1.342921   \n",
       "\n",
       "   fM3Trans    fAlpha     fDist  \n",
       "0 -0.364927 -0.691144  0.370005  \n",
       "1  0.401110  1.083127 -1.181395  \n",
       "2  0.697049  0.224561 -0.653728  \n",
       "3 -0.357433 -0.336787  0.627393  \n",
       "4  0.716200  0.102013  0.179761  "
      ]
     },
     "execution_count": 26,
     "metadata": {},
     "output_type": "execute_result"
    }
   ],
   "source": [
    "X_train.head()"
   ]
  },
  {
   "cell_type": "markdown",
   "metadata": {},
   "source": [
    "#### Model building"
   ]
  },
  {
   "cell_type": "code",
   "execution_count": 28,
   "metadata": {},
   "outputs": [],
   "source": [
    "import xgboost as xgb\n",
    "from sklearn.metrics import mean_squared_error"
   ]
  },
  {
   "cell_type": "code",
   "execution_count": 29,
   "metadata": {},
   "outputs": [],
   "source": [
    "xg_cl = xgb.XGBClassifier(objective ='binary:logistic', colsample_bytree = 0.3, learning_rate = 0.1,\n",
    "                max_depth = 5, alpha = 10, n_estimators = 10)"
   ]
  },
  {
   "cell_type": "code",
   "execution_count": 30,
   "metadata": {},
   "outputs": [
    {
     "data": {
      "text/plain": [
       "XGBClassifier(alpha=10, base_score=0.5, booster='gbtree', colsample_bylevel=1,\n",
       "       colsample_bytree=0.3, gamma=0, learning_rate=0.1, max_delta_step=0,\n",
       "       max_depth=5, min_child_weight=1, missing=None, n_estimators=10,\n",
       "       n_jobs=1, nthread=None, objective='binary:logistic', random_state=0,\n",
       "       reg_alpha=0, reg_lambda=1, scale_pos_weight=1, seed=None,\n",
       "       silent=True, subsample=1)"
      ]
     },
     "execution_count": 30,
     "metadata": {},
     "output_type": "execute_result"
    }
   ],
   "source": [
    "xg_cl.fit(X_train,y_train)"
   ]
  },
  {
   "cell_type": "code",
   "execution_count": 31,
   "metadata": {},
   "outputs": [],
   "source": [
    "preds = xg_cl.predict(X_test)"
   ]
  },
  {
   "cell_type": "code",
   "execution_count": 36,
   "metadata": {},
   "outputs": [],
   "source": [
    "from sklearn.metrics import confusion_matrix, classification_report, accuracy_score"
   ]
  },
  {
   "cell_type": "code",
   "execution_count": 39,
   "metadata": {},
   "outputs": [
    {
     "name": "stdout",
     "output_type": "stream",
     "text": [
      "[[201 211]\n",
      " [ 16 714]]\n",
      "\n",
      "\n",
      "             precision    recall  f1-score   support\n",
      "\n",
      "          0       0.93      0.49      0.64       412\n",
      "          1       0.77      0.98      0.86       730\n",
      "\n",
      "avg / total       0.83      0.80      0.78      1142\n",
      "\n",
      "Accuracy = 0.8012259194395797\n"
     ]
    }
   ],
   "source": [
    "print(confusion_matrix(y_test, preds))\n",
    "print(\"\\n\")\n",
    "print(classification_report(y_test, preds))\n",
    "print(\"Accuracy = \"+ str(accuracy_score(y_test, preds)))"
   ]
  },
  {
   "cell_type": "markdown",
   "metadata": {},
   "source": [
    "#### Build an XGBoost Model with parameters"
   ]
  },
  {
   "cell_type": "code",
   "execution_count": 49,
   "metadata": {},
   "outputs": [],
   "source": [
    "# use DMatrix for xgbosot\n",
    "dtrain = xgb.DMatrix(X_train, label=y_train)\n",
    "dtest = xgb.DMatrix(X_test, label=y_test)"
   ]
  },
  {
   "cell_type": "code",
   "execution_count": 51,
   "metadata": {},
   "outputs": [],
   "source": [
    "params_list = {\"objective\":\"binary:logistic\",\n",
    "              \"eta\" : 0.1,\n",
    "              \"early_stopping_rounds\" : 10,\n",
    "              \"max_depth\" : 6,\n",
    "              \"gamma\" : 0.5,\n",
    "              \"colsample_bytree\" : 0.6,\n",
    "              \"subsample\" : 0.65,\n",
    "              \"eval_metric\" : \"auc\",\n",
    "              \"silent\" : 1,\n",
    "              \"early_stopping_rounds\" : 20}"
   ]
  },
  {
   "cell_type": "code",
   "execution_count": 52,
   "metadata": {},
   "outputs": [],
   "source": [
    "nrounds = 500"
   ]
  },
  {
   "cell_type": "code",
   "execution_count": 55,
   "metadata": {},
   "outputs": [],
   "source": [
    "bst = xgb.train(params_list, dtrain, nrounds)"
   ]
  },
  {
   "cell_type": "code",
   "execution_count": 56,
   "metadata": {},
   "outputs": [],
   "source": [
    "preds = bst.predict(dtest)"
   ]
  },
  {
   "cell_type": "code",
   "execution_count": 61,
   "metadata": {},
   "outputs": [],
   "source": [
    "from sklearn.metrics import precision_score\n"
   ]
  },
  {
   "cell_type": "code",
   "execution_count": 63,
   "metadata": {},
   "outputs": [
    {
     "name": "stderr",
     "output_type": "stream",
     "text": [
      "C:\\Anaconda\\lib\\site-packages\\sklearn\\metrics\\classification.py:1135: UndefinedMetricWarning: Precision is ill-defined and being set to 0.0 in labels with no predicted samples.\n",
      "  'precision', 'predicted', average, warn_for)\n"
     ]
    },
    {
     "data": {
      "text/plain": [
       "0.18038528896672504"
      ]
     },
     "execution_count": 63,
     "metadata": {},
     "output_type": "execute_result"
    }
   ],
   "source": [
    "best_preds = np.asarray([np.argmax(line) for line in preds])\n",
    "precision_score(y_test, best_preds, average='macro')"
   ]
  }
 ],
 "metadata": {
  "kernelspec": {
   "display_name": "Python 3",
   "language": "python",
   "name": "python3"
  },
  "language_info": {
   "codemirror_mode": {
    "name": "ipython",
    "version": 3
   },
   "file_extension": ".py",
   "mimetype": "text/x-python",
   "name": "python",
   "nbconvert_exporter": "python",
   "pygments_lexer": "ipython3",
   "version": "3.6.5"
  }
 },
 "nbformat": 4,
 "nbformat_minor": 2
}
